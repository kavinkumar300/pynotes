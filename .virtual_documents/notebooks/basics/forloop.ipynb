# created : 20250629





x = [(1,2),(3,4),(4,5)]
for a,b in x:
    print(a, "plus", b, "equals" , a+b)



num = int(input("enter a number: "))
factorial = 1
for i in range(num, 1, -1):
    factorial = factorial * i
print("factorial:", factorial)



number = int(input("enter a number"))
for i in range(1,11):
    answer = number * i
    print(f"{number} x {i} = {answer}")


numbers = [10,20,30,40]
total = 0
for i in numbers:
    total = total + i
    print("sum:", total)


text = "kavin"
vowels = "aeiouAEIOU"
count = 0

for char in text:
    if char in vowels:
        count += 1

print(f"Number of vowels: {count}")




