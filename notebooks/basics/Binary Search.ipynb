{
 "cells": [
  {
   "cell_type": "code",
   "execution_count": null,
   "id": "d7383dd3-104f-482e-ae1e-b851d3f17efd",
   "metadata": {},
   "outputs": [],
   "source": [
    "# 202507221"
   ]
  },
  {
   "cell_type": "code",
   "execution_count": null,
   "id": "65e32301-44de-41cb-8a1e-a746c5dbe00b",
   "metadata": {},
   "outputs": [],
   "source": [
    "https://chatgpt.com/c/687d381f-a7cc-8012-aa0e-4d36b9b1488c"
   ]
  },
  {
   "cell_type": "code",
   "execution_count": null,
   "id": "63b50b60-bf8d-45e8-9043-cdba88c3b671",
   "metadata": {},
   "outputs": [],
   "source": [
    "def binary_search(arr, target):\n",
    "    low, high = 0, len(arr)-1"
   ]
  },
  {
   "cell_type": "code",
   "execution_count": null,
   "id": "333566dd-6139-4e9d-8e05-511e116f447e",
   "metadata": {},
   "outputs": [],
   "source": [
    "while low <= high:\n",
    "        mid = (low + high) // 2"
   ]
  },
  {
   "cell_type": "code",
   "execution_count": null,
   "id": "ce0ba07e-38ce-4040-b3c4-021ec33247ad",
   "metadata": {},
   "outputs": [],
   "source": [
    "if arr[mid] == target:\n",
    "            return mid"
   ]
  },
  {
   "cell_type": "code",
   "execution_count": null,
   "id": "70c080a3-c5b8-4340-a9c7-d17aeedbc2e4",
   "metadata": {},
   "outputs": [],
   "source": [
    "elif arr[mid] < target:\n",
    "            low = mid + 1"
   ]
  },
  {
   "cell_type": "code",
   "execution_count": null,
   "id": "51c3a69c-4fae-4de7-8c47-1fb2d90d2748",
   "metadata": {},
   "outputs": [],
   "source": [
    "else:\n",
    "            high = mid - 1"
   ]
  },
  {
   "cell_type": "code",
   "execution_count": null,
   "id": "f180fc34-d669-4ea0-a6ec-9ced90b8fa0c",
   "metadata": {},
   "outputs": [],
   "source": [
    " return -1"
   ]
  },
  {
   "cell_type": "code",
   "execution_count": null,
   "id": "578ced5a-19fd-4081-a205-529d944c838c",
   "metadata": {},
   "outputs": [],
   "source": [
    "print(binary_search([1, 3, 5, 7, 9], 5))"
   ]
  }
 ],
 "metadata": {
  "kernelspec": {
   "display_name": "Python 3 (ipykernel)",
   "language": "python",
   "name": "python3"
  },
  "language_info": {
   "codemirror_mode": {
    "name": "ipython",
    "version": 3
   },
   "file_extension": ".py",
   "mimetype": "text/x-python",
   "name": "python",
   "nbconvert_exporter": "python",
   "pygments_lexer": "ipython3",
   "version": "3.12.3"
  }
 },
 "nbformat": 4,
 "nbformat_minor": 5
}
