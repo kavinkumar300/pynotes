{
 "cells": [
  {
   "cell_type": "code",
   "execution_count": null,
   "id": "2ab85899-f3d9-439b-a06a-175c0989d2a2",
   "metadata": {},
   "outputs": [],
   "source": [
    "# 20250721"
   ]
  },
  {
   "cell_type": "code",
   "execution_count": null,
   "id": "b3e56662-4614-4d10-ba9d-7def77808e6e",
   "metadata": {},
   "outputs": [],
   "source": [
    "https://chatgpt.com/c/687d381f-a7cc-8012-aa0e-4d36b9b1488c"
   ]
  },
  {
   "cell_type": "code",
   "execution_count": null,
   "id": "baaddc45-2aff-4003-89a5-0c4426c278e5",
   "metadata": {},
   "outputs": [],
   "source": [
    "def bubble_sort(arr):\n",
    "    n = len(arr)"
   ]
  },
  {
   "cell_type": "code",
   "execution_count": null,
   "id": "940da1fc-30bb-4d15-a5f6-695a8b45dbff",
   "metadata": {},
   "outputs": [],
   "source": [
    "for i in range(n):"
   ]
  },
  {
   "cell_type": "code",
   "execution_count": null,
   "id": "90aa9656-d216-4b5d-b9db-f08c5ae3dbe8",
   "metadata": {},
   "outputs": [],
   "source": [
    "for j in range(0, n-i-1):"
   ]
  },
  {
   "cell_type": "code",
   "execution_count": null,
   "id": "6d066fd3-c59f-4212-b8f9-e30fafce8906",
   "metadata": {},
   "outputs": [],
   "source": [
    " if arr[j] > arr[j+1]:\n",
    "                arr[j], arr[j+1] = arr[j+1], arr[j]"
   ]
  },
  {
   "cell_type": "code",
   "execution_count": null,
   "id": "69c9ba90-16b9-444b-8e7d-6135ef4a1247",
   "metadata": {},
   "outputs": [],
   "source": [
    " return arr"
   ]
  },
  {
   "cell_type": "code",
   "execution_count": null,
   "id": "b8126561-ab1c-454c-970e-94bcf88d1e5b",
   "metadata": {},
   "outputs": [],
   "source": [
    "print(bubble_sort([5, 1, 4, 2, 8]))"
   ]
  }
 ],
 "metadata": {
  "kernelspec": {
   "display_name": "Python 3 (ipykernel)",
   "language": "python",
   "name": "python3"
  },
  "language_info": {
   "codemirror_mode": {
    "name": "ipython",
    "version": 3
   },
   "file_extension": ".py",
   "mimetype": "text/x-python",
   "name": "python",
   "nbconvert_exporter": "python",
   "pygments_lexer": "ipython3",
   "version": "3.12.3"
  }
 },
 "nbformat": 4,
 "nbformat_minor": 5
}
