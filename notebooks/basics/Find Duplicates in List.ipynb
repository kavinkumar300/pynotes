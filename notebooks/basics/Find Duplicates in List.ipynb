{
 "cells": [
  {
   "cell_type": "code",
   "execution_count": null,
   "id": "3d28ecbd-188a-42c5-bcab-6b92a97a0ba2",
   "metadata": {},
   "outputs": [],
   "source": [
    "# 20250721"
   ]
  },
  {
   "cell_type": "code",
   "execution_count": null,
   "id": "b0226e30-88f0-4f21-b9dd-99ed013a20bb",
   "metadata": {},
   "outputs": [],
   "source": [
    "https://chatgpt.com/c/687d381f-a7cc-8012-aa0e-4d36b9b1488c"
   ]
  },
  {
   "cell_type": "code",
   "execution_count": null,
   "id": "80d4bcc2-73ee-43fb-8cf2-ebd44f321eda",
   "metadata": {},
   "outputs": [],
   "source": [
    "def find_duplicates(lst):\n",
    "    seen = set()\n",
    "    duplicates = set()"
   ]
  },
  {
   "cell_type": "code",
   "execution_count": null,
   "id": "4e442007-6768-4e6a-bace-ce0a90c9757d",
   "metadata": {},
   "outputs": [],
   "source": [
    "for item in lst:"
   ]
  },
  {
   "cell_type": "code",
   "execution_count": null,
   "id": "e44a556a-c3bc-4ee6-a267-dba91a39f1d0",
   "metadata": {},
   "outputs": [],
   "source": [
    " if item in seen:\n",
    "            duplicates.add(item)"
   ]
  },
  {
   "cell_type": "code",
   "execution_count": null,
   "id": "75dae9c6-0893-436b-8048-4f90ac263e8b",
   "metadata": {},
   "outputs": [],
   "source": [
    "else:\n",
    "            seen.add(item)"
   ]
  },
  {
   "cell_type": "code",
   "execution_count": null,
   "id": "88e6f959-768d-4234-a4d5-d14a8f0f163f",
   "metadata": {},
   "outputs": [],
   "source": [
    "return list(duplicates)"
   ]
  },
  {
   "cell_type": "code",
   "execution_count": null,
   "id": "655aed0a-16d3-40a4-af70-2ab9e5894701",
   "metadata": {},
   "outputs": [],
   "source": [
    "print(find_duplicates([1, 2, 3, 2, 4, 1]))"
   ]
  }
 ],
 "metadata": {
  "kernelspec": {
   "display_name": "Python 3 (ipykernel)",
   "language": "python",
   "name": "python3"
  },
  "language_info": {
   "codemirror_mode": {
    "name": "ipython",
    "version": 3
   },
   "file_extension": ".py",
   "mimetype": "text/x-python",
   "name": "python",
   "nbconvert_exporter": "python",
   "pygments_lexer": "ipython3",
   "version": "3.12.3"
  }
 },
 "nbformat": 4,
 "nbformat_minor": 5
}
