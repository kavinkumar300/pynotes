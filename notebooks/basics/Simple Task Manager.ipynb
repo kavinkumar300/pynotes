{
 "cells": [
  {
   "cell_type": "code",
   "execution_count": null,
   "id": "55545059-b747-409a-9738-4ff575155c7f",
   "metadata": {},
   "outputs": [],
   "source": [
    "# 20250721"
   ]
  },
  {
   "cell_type": "code",
   "execution_count": null,
   "id": "a6776115-8fee-46e5-b416-488f9d467ad1",
   "metadata": {},
   "outputs": [],
   "source": []
  },
  {
   "cell_type": "code",
   "execution_count": null,
   "id": "1136fe8d-80c8-478d-ad8b-9fe679e7a0ce",
   "metadata": {},
   "outputs": [],
   "source": [
    "import os"
   ]
  },
  {
   "cell_type": "code",
   "execution_count": null,
   "id": "8af92458-be28-454f-a808-86ac838ddef8",
   "metadata": {},
   "outputs": [],
   "source": [
    "TASKS_FILE = \"tasks.txt\""
   ]
  },
  {
   "cell_type": "code",
   "execution_count": null,
   "id": "5419a7ff-de44-4e0c-a228-d17387c7a4fe",
   "metadata": {},
   "outputs": [],
   "source": [
    "def load_tasks():\n",
    "    tasks = []"
   ]
  },
  {
   "cell_type": "code",
   "execution_count": null,
   "id": "3d9fff47-70f9-45f5-a33a-ae756d41b268",
   "metadata": {},
   "outputs": [],
   "source": [
    "if os.path.exists(TASKS_FILE):\n",
    "        with open(TASKS_FILE, 'r') as f:"
   ]
  },
  {
   "cell_type": "code",
   "execution_count": null,
   "id": "6ab8d46b-5203-4ca8-9dfd-c61d1ad51df6",
   "metadata": {},
   "outputs": [],
   "source": [
    " for line in f:\n",
    "                parts = line.strip().split('|')"
   ]
  },
  {
   "cell_type": "code",
   "execution_count": null,
   "id": "6d9dd3b2-3c54-465b-ad19-2a78a4a4f80e",
   "metadata": {},
   "outputs": [],
   "source": [
    " if len(parts) == 2:\n",
    "                    task, status = parts\n",
    "                    tasks.append({'task': task, 'done': status == 'done'})"
   ]
  },
  {
   "cell_type": "code",
   "execution_count": null,
   "id": "6c3d6959-9b41-4c06-a17b-1d0526016f32",
   "metadata": {},
   "outputs": [],
   "source": [
    " return tasks"
   ]
  },
  {
   "cell_type": "code",
   "execution_count": null,
   "id": "a50a36ed-87b6-47e5-ba86-555b2d522473",
   "metadata": {},
   "outputs": [],
   "source": [
    "def save_tasks(tasks):\n",
    "    with open(TASKS_FILE, 'w') as f:"
   ]
  },
  {
   "cell_type": "code",
   "execution_count": null,
   "id": "af9f469c-4cd1-474e-8346-3ec117d911e4",
   "metadata": {},
   "outputs": [],
   "source": [
    " for task in tasks:\n",
    "            status = 'done' if task['done'] else 'pending'\n",
    "            f.write(f\"{task['task']}|{status}\\n\")"
   ]
  },
  {
   "cell_type": "code",
   "execution_count": null,
   "id": "42d29944-76fb-48d5-8b94-82fbc91dab80",
   "metadata": {},
   "outputs": [],
   "source": [
    "def show_tasks(tasks):\n",
    "    print(\"\\n📝 Your Tasks:\")"
   ]
  },
  {
   "cell_type": "code",
   "execution_count": null,
   "id": "b78febb7-e7e9-4ea3-88f7-2c6fd3f37974",
   "metadata": {},
   "outputs": [],
   "source": [
    "if not tasks:\n",
    "        print(\"  No tasks yet.\")"
   ]
  },
  {
   "cell_type": "code",
   "execution_count": null,
   "id": "696e95fd-9908-40f9-ba6b-875bbe315a48",
   "metadata": {},
   "outputs": [],
   "source": [
    " else:\n",
    "        for i, task in enumerate(tasks, 1):\n",
    "            status = \"✅\" if task['done'] else \"❌\""
   ]
  },
  {
   "cell_type": "code",
   "execution_count": null,
   "id": "c649b7da-6a01-4726-95db-21a6a1f4708e",
   "metadata": {},
   "outputs": [],
   "source": [
    "print(f\"  {i}. {task['task']} [{status}]\")\n",
    "    print()"
   ]
  },
  {
   "cell_type": "code",
   "execution_count": null,
   "id": "92e15189-b2e3-49dd-8fcf-0df1c80f4d8f",
   "metadata": {},
   "outputs": [],
   "source": [
    "def add_task(tasks):\n",
    "    task = input(\"Enter new task: \").strip()"
   ]
  },
  {
   "cell_type": "code",
   "execution_count": null,
   "id": "7ba120e9-5c88-4aa6-bc0e-fc409ba7e201",
   "metadata": {},
   "outputs": [],
   "source": [
    "if task:\n",
    "        tasks.append({'task': task, 'done': False})\n",
    "        print(\"✅ Task added.\")"
   ]
  },
  {
   "cell_type": "code",
   "execution_count": null,
   "id": "68e82dd2-00f1-4e57-b2b8-1632efcd32ce",
   "metadata": {},
   "outputs": [],
   "source": [
    " else:\n",
    "        print(\"⚠️ Task cannot be empty.\")"
   ]
  },
  {
   "cell_type": "code",
   "execution_count": null,
   "id": "0c64e775-0571-4756-a31b-2777e4f90830",
   "metadata": {},
   "outputs": [],
   "source": [
    "try:\n",
    "        num = int(input(\"Enter task number to mark done: \"))"
   ]
  },
  {
   "cell_type": "code",
   "execution_count": null,
   "id": "376c6bf8-7486-4062-87ec-eb422f3f9330",
   "metadata": {},
   "outputs": [],
   "source": [
    "if 1 <= num <= len(tasks):\n",
    "            tasks[num - 1]['done'] = True\n",
    "            print(\"✔️ Task marked as done.\")"
   ]
  },
  {
   "cell_type": "code",
   "execution_count": null,
   "id": "d91d3460-0dd9-49b4-b5ae-a119cb57ffe8",
   "metadata": {},
   "outputs": [],
   "source": [
    " print(\"✔️ Task marked as done.\")"
   ]
  },
  {
   "cell_type": "code",
   "execution_count": null,
   "id": "26e25832-4a17-4fdb-96f1-be0a709fbafe",
   "metadata": {},
   "outputs": [],
   "source": [
    " else:\n",
    "            print(\"⚠️ Invalid task number.\")"
   ]
  },
  {
   "cell_type": "code",
   "execution_count": null,
   "id": "1cc571ed-6e52-4907-ab95-65e3f86c6689",
   "metadata": {},
   "outputs": [],
   "source": [
    "except ValueError:\n",
    "        print(\"❌ Please enter a number.\")"
   ]
  },
  {
   "cell_type": "code",
   "execution_count": null,
   "id": "3f3101a9-1861-4c7f-983a-2ddc7841bab9",
   "metadata": {},
   "outputs": [],
   "source": [
    "def delete_task(tasks):\n",
    "    show_tasks(tasks)"
   ]
  },
  {
   "cell_type": "code",
   "execution_count": null,
   "id": "b86ce366-895e-4d24-a1ca-f15a5cc0c4c3",
   "metadata": {},
   "outputs": [],
   "source": [
    "try:\n",
    "        num = int(input(\"Enter task number to delete: \"))"
   ]
  },
  {
   "cell_type": "code",
   "execution_count": null,
   "id": "81090b97-23f4-4a4b-a7e4-03d0e2c47e72",
   "metadata": {},
   "outputs": [],
   "source": [
    "if 1 <= num <= len(tasks):\n",
    "            removed = tasks.pop(num - 1)"
   ]
  },
  {
   "cell_type": "code",
   "execution_count": null,
   "id": "4093d67d-cb26-4e22-b6de-8dd92c346097",
   "metadata": {},
   "outputs": [],
   "source": [
    " print(f\"🗑️ Deleted: {removed['task']}\")"
   ]
  },
  {
   "cell_type": "code",
   "execution_count": null,
   "id": "797c0715-4ae3-4f4e-99f9-7ccdcf8a2b9f",
   "metadata": {},
   "outputs": [],
   "source": [
    " else:\n",
    "            print(\"⚠️ Invalid task number.\")"
   ]
  },
  {
   "cell_type": "code",
   "execution_count": null,
   "id": "80fb6996-7866-4938-ad77-c1b7d1712ce5",
   "metadata": {},
   "outputs": [],
   "source": [
    "except ValueError:\n",
    "        print(\"❌ Please enter a number.\")\n"
   ]
  },
  {
   "cell_type": "code",
   "execution_count": null,
   "id": "80364dd9-4100-45cf-a146-faa7c8c38f0f",
   "metadata": {},
   "outputs": [],
   "source": [
    "def clear_tasks(tasks):\n",
    "    confirm = input(\"Are you sure you want to clear all tasks? (y/n): \").lower()"
   ]
  },
  {
   "cell_type": "code",
   "execution_count": null,
   "id": "8718194f-4cee-441c-9b54-e6fe68e30c93",
   "metadata": {},
   "outputs": [],
   "source": [
    "if confirm == 'y':\n",
    "        tasks.clear()"
   ]
  },
  {
   "cell_type": "code",
   "execution_count": null,
   "id": "ee480625-1816-40ed-bc20-b88acfbbacf9",
   "metadata": {},
   "outputs": [],
   "source": [
    "print(\"🧹 All tasks cleared.\")"
   ]
  },
  {
   "cell_type": "code",
   "execution_count": null,
   "id": "0e4a778c-ccf6-465e-becf-8261f89fbb38",
   "metadata": {},
   "outputs": [],
   "source": [
    "else:\n",
    "        print(\"Cancelled.\")"
   ]
  },
  {
   "cell_type": "code",
   "execution_count": null,
   "id": "8e9bedc3-aedf-47aa-94e3-0da4b388d16d",
   "metadata": {},
   "outputs": [],
   "source": [
    "def show_menu():"
   ]
  },
  {
   "cell_type": "code",
   "execution_count": null,
   "id": "fe2d6812-006e-4260-9d9f-afe9d67c4c0b",
   "metadata": {},
   "outputs": [],
   "source": [
    "print(\"\\n📋 Task Manager\")"
   ]
  },
  {
   "cell_type": "code",
   "execution_count": null,
   "id": "8f8ac1b6-49cf-4268-adff-666c3fadbbe7",
   "metadata": {},
   "outputs": [],
   "source": [
    "print(\"1. View Tasks\")"
   ]
  },
  {
   "cell_type": "code",
   "execution_count": null,
   "id": "a814f28f-ae74-4b30-b678-a2110887bf7a",
   "metadata": {},
   "outputs": [],
   "source": [
    "print(\"2. Add Task\")"
   ]
  },
  {
   "cell_type": "code",
   "execution_count": null,
   "id": "dce2c0ed-2eba-4495-a834-2a47a4f2e51c",
   "metadata": {},
   "outputs": [],
   "source": [
    "print(\"3. Mark Task as Done\")"
   ]
  },
  {
   "cell_type": "code",
   "execution_count": null,
   "id": "87fcc661-f3ba-432b-87aa-a861d0beccd2",
   "metadata": {},
   "outputs": [],
   "source": [
    "print(\"4. Delete Task\")"
   ]
  },
  {
   "cell_type": "code",
   "execution_count": null,
   "id": "01b144a0-8fe3-45b9-a2ad-03e2414bc353",
   "metadata": {},
   "outputs": [],
   "source": [
    " print(\"5. Clear All Tasks\")"
   ]
  },
  {
   "cell_type": "code",
   "execution_count": null,
   "id": "30297052-28ba-49db-9b2d-e895b0ba0dbf",
   "metadata": {},
   "outputs": [],
   "source": [
    " print(\"6. Exit\")"
   ]
  },
  {
   "cell_type": "code",
   "execution_count": null,
   "id": "cd741ddb-0459-4ab3-bb70-e4166133ae29",
   "metadata": {},
   "outputs": [],
   "source": [
    "def main():\n",
    "    tasks = load_tasks()"
   ]
  },
  {
   "cell_type": "code",
   "execution_count": null,
   "id": "7d64a44a-bd1d-4566-b86b-0e7db68f5611",
   "metadata": {},
   "outputs": [],
   "source": [
    "while True:\n",
    "        show_menu()\n",
    "        choice = input(\"Choose an option (1-6): \").strip()"
   ]
  },
  {
   "cell_type": "code",
   "execution_count": null,
   "id": "13707941-afd2-4d98-8560-ce939568e28b",
   "metadata": {},
   "outputs": [],
   "source": [
    "if choice == '1':\n",
    "            show_tasks(tasks)"
   ]
  },
  {
   "cell_type": "code",
   "execution_count": null,
   "id": "ecd76468-2988-4340-8e6a-b21967b1b83d",
   "metadata": {},
   "outputs": [],
   "source": [
    "elif choice == '2':\n",
    "            add_task(tasks)"
   ]
  },
  {
   "cell_type": "code",
   "execution_count": null,
   "id": "72c0dbc0-c31c-4a07-9710-8baaaa5ae3bc",
   "metadata": {},
   "outputs": [],
   "source": [
    "elif choice == '3':\n",
    "            mark_done(tasks)"
   ]
  },
  {
   "cell_type": "code",
   "execution_count": null,
   "id": "68a6a711-cbf9-48f6-b9f8-a271d15596da",
   "metadata": {},
   "outputs": [],
   "source": [
    "elif choice == '4':\n",
    "            delete_task(tasks)"
   ]
  },
  {
   "cell_type": "code",
   "execution_count": null,
   "id": "9136636f-b7b5-44a9-9cac-90485fbfa883",
   "metadata": {},
   "outputs": [],
   "source": [
    "elif choice == '5':\n",
    "            clear_tasks(tasks)"
   ]
  },
  {
   "cell_type": "code",
   "execution_count": null,
   "id": "e738fd4e-9c2b-4053-8ba6-ec80ef8267d7",
   "metadata": {},
   "outputs": [],
   "source": [
    "elif choice == '6':\n",
    "            save_tasks(tasks)"
   ]
  },
  {
   "cell_type": "code",
   "execution_count": null,
   "id": "8c234409-5170-4ab1-afcc-b522422f50c7",
   "metadata": {},
   "outputs": [],
   "source": [
    " print(\"💾 Tasks saved. Goodbye!\")\n",
    " break"
   ]
  },
  {
   "cell_type": "code",
   "execution_count": null,
   "id": "19993c42-9585-42b0-b6fb-01e29c869afe",
   "metadata": {},
   "outputs": [],
   "source": [
    " else:\n",
    "            print(\"❌ Invalid choice. Please select between 1 and 6.\")"
   ]
  },
  {
   "cell_type": "code",
   "execution_count": null,
   "id": "9fae6c6a-5466-4959-89f5-ad617707fad2",
   "metadata": {},
   "outputs": [],
   "source": [
    "if __name__ == \"__main__\":\n",
    "    main()"
   ]
  },
  {
   "cell_type": "code",
   "execution_count": null,
   "id": "b8c79c4d-bb99-401c-bbf6-1983c0a6a10d",
   "metadata": {},
   "outputs": [],
   "source": []
  },
  {
   "cell_type": "code",
   "execution_count": null,
   "id": "6d543d0e-0b06-4a3a-a761-6371e9241796",
   "metadata": {},
   "outputs": [],
   "source": []
  },
  {
   "cell_type": "code",
   "execution_count": null,
   "id": "db9afda4-8a1d-4c8a-b8d3-6df1ae5fbdcd",
   "metadata": {},
   "outputs": [],
   "source": []
  }
 ],
 "metadata": {
  "kernelspec": {
   "display_name": "Python 3 (ipykernel)",
   "language": "python",
   "name": "python3"
  },
  "language_info": {
   "codemirror_mode": {
    "name": "ipython",
    "version": 3
   },
   "file_extension": ".py",
   "mimetype": "text/x-python",
   "name": "python",
   "nbconvert_exporter": "python",
   "pygments_lexer": "ipython3",
   "version": "3.12.3"
  }
 },
 "nbformat": 4,
 "nbformat_minor": 5
}
