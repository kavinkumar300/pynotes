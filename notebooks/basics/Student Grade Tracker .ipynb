{
 "cells": [
  {
   "cell_type": "code",
   "execution_count": null,
   "id": "4c556175-0b96-4ab2-a0d1-0208ff6cf41a",
   "metadata": {},
   "outputs": [],
   "source": [
    "# 20250721"
   ]
  },
  {
   "cell_type": "code",
   "execution_count": null,
   "id": "c892a871-eff2-4976-b496-cc418ae99c02",
   "metadata": {},
   "outputs": [],
   "source": [
    "https://chatgpt.com/c/687d381f-a7cc-8012-aa0e-4d36b9b1488c"
   ]
  },
  {
   "cell_type": "code",
   "execution_count": null,
   "id": "da0e4828-fa6e-4009-a3b0-a63b4c6253ac",
   "metadata": {},
   "outputs": [],
   "source": [
    "def get_student_details():\n",
    "    name = input(\"Enter student name: \")\n",
    "    roll_no = input(\"Enter roll number: \")\n",
    "    return name, roll_no"
   ]
  },
  {
   "cell_type": "code",
   "execution_count": null,
   "id": "c210650f-d9c1-402e-84bc-6ab627225de3",
   "metadata": {},
   "outputs": [],
   "source": [
    "def get_marks(subjects):\n",
    "    marks = {}\n",
    "    for subject in subjects:"
   ]
  },
  {
   "cell_type": "code",
   "execution_count": null,
   "id": "6870eb9e-5469-4996-9d61-9a45bb127063",
   "metadata": {},
   "outputs": [],
   "source": [
    "while True:\n",
    "            try:\n",
    "                mark = float(input(f\"Enter marks for {subject}: \"))"
   ]
  },
  {
   "cell_type": "code",
   "execution_count": null,
   "id": "fcbdf2d9-87ac-4bec-9734-1c415c963cf4",
   "metadata": {},
   "outputs": [],
   "source": [
    "if 0 <= mark <= 100:\n",
    "                    marks[subject] = mark\n",
    "                    break"
   ]
  },
  {
   "cell_type": "code",
   "execution_count": null,
   "id": "39d1443b-9525-4544-86bf-45ff513f60cc",
   "metadata": {},
   "outputs": [],
   "source": [
    " else:\n",
    "                    print(\"Marks should be between 0 and 100.\")"
   ]
  },
  {
   "cell_type": "code",
   "execution_count": null,
   "id": "7c859df9-33a2-4055-98ca-98082e594050",
   "metadata": {},
   "outputs": [],
   "source": [
    "except ValueError:\n",
    "                print(\"Enter a valid number.\")\n",
    "    return marks"
   ]
  },
  {
   "cell_type": "code",
   "execution_count": null,
   "id": "672a5f56-5887-4d50-aa37-f467b4f105cc",
   "metadata": {},
   "outputs": [],
   "source": [
    "def calculate_average(marks):\n",
    "    total = sum(marks.values())\n",
    "    return total / len(marks)"
   ]
  },
  {
   "cell_type": "code",
   "execution_count": null,
   "id": "9bb39892-b652-4208-88a8-46a901375298",
   "metadata": {},
   "outputs": [],
   "source": [
    "def get_remark(average):\n",
    "    if average >= 90:\n",
    "        return \"Excellent\""
   ]
  },
  {
   "cell_type": "code",
   "execution_count": null,
   "id": "48f8b057-d8bb-42d2-a184-d52775a51f6f",
   "metadata": {},
   "outputs": [],
   "source": [
    "elif average >= 75:\n",
    "        return \"Very Good\""
   ]
  },
  {
   "cell_type": "code",
   "execution_count": null,
   "id": "06045b7b-02bd-4bee-a11c-daaecf514357",
   "metadata": {},
   "outputs": [],
   "source": [
    "elif average >= 60:\n",
    "        return \"Good\""
   ]
  },
  {
   "cell_type": "code",
   "execution_count": null,
   "id": "7c3a3d26-1703-42d0-a9f9-89481171a3ae",
   "metadata": {},
   "outputs": [],
   "source": [
    "elif average >= 40:\n",
    "        return \"Pass\""
   ]
  },
  {
   "cell_type": "code",
   "execution_count": null,
   "id": "23f55c65-d357-43df-841b-6bab323d0f10",
   "metadata": {},
   "outputs": [],
   "source": [
    "else:\n",
    "        return \"Fail\""
   ]
  },
  {
   "cell_type": "code",
   "execution_count": null,
   "id": "6083863c-36ca-447b-9167-d2ef8619159b",
   "metadata": {},
   "outputs": [],
   "source": [
    "def display_report(name, roll_no, marks, average, remark):"
   ]
  },
  {
   "cell_type": "code",
   "execution_count": null,
   "id": "0ab3a0f8-34e4-4229-a5d3-5deaf73f9266",
   "metadata": {},
   "outputs": [],
   "source": [
    "print(\"\\n--- Student Report ---\")\n",
    "    print(f\"Name      : {name}\")\n",
    "    print(f\"Roll No   : {roll_no}\")"
   ]
  },
  {
   "cell_type": "code",
   "execution_count": null,
   "id": "7eaebafc-82d9-45a5-be02-abe7e908f931",
   "metadata": {},
   "outputs": [],
   "source": [
    " print(\"\\nMarks:\")\n",
    "    for subject, mark in marks.items():\n",
    "        print(f\"{subject:10}: {mark}\")"
   ]
  },
  {
   "cell_type": "code",
   "execution_count": null,
   "id": "93ed4fb9-476a-453b-9dc2-14da124fa983",
   "metadata": {},
   "outputs": [],
   "source": [
    " print(f\"\\nAverage   : {average:.2f}\")\n",
    "    print(f\"Remark    : {remark}\")"
   ]
  },
  {
   "cell_type": "code",
   "execution_count": null,
   "id": "2b313588-3550-4216-a9db-1ce51be5747b",
   "metadata": {},
   "outputs": [],
   "source": [
    "def main():\n",
    "    subjects = [\"Math\", \"Science\", \"English\", \"History\", \"Computer\"]\n",
    "    name, roll_no = get_student_details()\n",
    "    marks = get_marks(subjects)\n",
    "    average = calculate_average(marks)\n",
    "    remark = get_remark(average)\n",
    "    display_report(name, roll_no, marks, average, remark)"
   ]
  },
  {
   "cell_type": "code",
   "execution_count": null,
   "id": "733068b2-3ef8-4695-9cdf-78e465298a86",
   "metadata": {},
   "outputs": [],
   "source": [
    "if __name__ == \"__main__\":\n",
    "    main()"
   ]
  },
  {
   "cell_type": "code",
   "execution_count": null,
   "id": "d609fcef-ffae-468d-96bd-70453fb1a597",
   "metadata": {},
   "outputs": [],
   "source": []
  }
 ],
 "metadata": {
  "kernelspec": {
   "display_name": "Python 3 (ipykernel)",
   "language": "python",
   "name": "python3"
  },
  "language_info": {
   "codemirror_mode": {
    "name": "ipython",
    "version": 3
   },
   "file_extension": ".py",
   "mimetype": "text/x-python",
   "name": "python",
   "nbconvert_exporter": "python",
   "pygments_lexer": "ipython3",
   "version": "3.12.3"
  }
 },
 "nbformat": 4,
 "nbformat_minor": 5
}
