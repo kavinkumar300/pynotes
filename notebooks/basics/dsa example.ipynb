{
 "cells": [
  {
   "cell_type": "code",
   "execution_count": null,
   "id": "27f2b38d-d2b0-4543-8605-f8a6e317970f",
   "metadata": {},
   "outputs": [],
   "source": [
    "# 20250721"
   ]
  },
  {
   "cell_type": "code",
   "execution_count": null,
   "id": "4cb5e144-d0d6-4c99-b5ff-0b7adae85839",
   "metadata": {},
   "outputs": [],
   "source": [
    "https://chatgpt.com/c/687e332e-1d00-8012-b8a4-92d0fc133b42"
   ]
  },
  {
   "cell_type": "code",
   "execution_count": null,
   "id": "441136ea-bab2-48ad-b7aa-ea5cd10769ab",
   "metadata": {},
   "outputs": [],
   "source": [
    "class Stack:\n",
    "    def __init__(self):\n",
    "        self.stack = []"
   ]
  },
  {
   "cell_type": "code",
   "execution_count": null,
   "id": "4f2fa87b-5eaa-4340-a83f-6ddc367139ef",
   "metadata": {},
   "outputs": [],
   "source": [
    "def push(self, item):\n",
    "        print(f\"Pushed {item}\")\n",
    "        self.stack.append(item)\n"
   ]
  },
  {
   "cell_type": "code",
   "execution_count": null,
   "id": "48be1cef-509a-4c10-aa97-2de8946eb496",
   "metadata": {},
   "outputs": [],
   "source": [
    " def pop(self):\n",
    "        if not self.is_empty():\n",
    "            print(f\"Popped {self.stack[-1]}\")\n",
    "            return self.stack.pop()\n",
    "        return None"
   ]
  },
  {
   "cell_type": "code",
   "execution_count": null,
   "id": "1e1f9884-5754-43db-81fc-ad64c6e3b54f",
   "metadata": {},
   "outputs": [],
   "source": [
    "def is_empty(self):\n",
    "        return len(self.stack) == 0\n"
   ]
  },
  {
   "cell_type": "code",
   "execution_count": null,
   "id": "6f3cf71e-c1d4-4344-9f70-34ad3a8b62f3",
   "metadata": {},
   "outputs": [],
   "source": [
    " def peek(self):\n",
    "        return self.stack[-1] if self.stack else None\n"
   ]
  },
  {
   "cell_type": "code",
   "execution_count": null,
   "id": "5f72e8bc-1e2c-4a68-ba45-2cb8a0048b4c",
   "metadata": {},
   "outputs": [],
   "source": [
    "def display(self):\n",
    "        print(\"Stack:\", self.stack)"
   ]
  },
  {
   "cell_type": "code",
   "execution_count": null,
   "id": "30c84cab-13f1-4e53-b0df-45502faa5a49",
   "metadata": {},
   "outputs": [],
   "source": [
    "class Queue:\n",
    "    def __init__(self):\n",
    "        self.queue = []\n"
   ]
  },
  {
   "cell_type": "code",
   "execution_count": null,
   "id": "7f11f021-0fb2-4475-9fa1-670bc9eb0c9e",
   "metadata": {},
   "outputs": [],
   "source": [
    " def enqueue(self, item):\n",
    "        print(f\"Enqueued {item}\")\n",
    "        self.queue.append(item)\n"
   ]
  },
  {
   "cell_type": "code",
   "execution_count": null,
   "id": "3fd67fcb-81ca-4d20-b3f4-f5a991cb755a",
   "metadata": {},
   "outputs": [],
   "source": [
    " def dequeue(self):\n",
    "        if not self.is_empty():\n",
    "            print(f\"Dequeued {self.queue[0]}\")\n",
    "            return self.queue.pop(0)\n",
    "        return None\n"
   ]
  },
  {
   "cell_type": "code",
   "execution_count": null,
   "id": "ac560461-23ba-4dc2-9d68-24d59a335d59",
   "metadata": {},
   "outputs": [],
   "source": [
    " def is_empty(self):\n",
    "        return len(self.queue) == 0\n"
   ]
  },
  {
   "cell_type": "code",
   "execution_count": null,
   "id": "d0bf2272-20c7-4189-987f-be8d6c655c05",
   "metadata": {},
   "outputs": [],
   "source": [
    "  def display(self):\n",
    "        print(\"Queue:\", self.queue)\n"
   ]
  },
  {
   "cell_type": "code",
   "execution_count": null,
   "id": "d3a2f50e-f148-4a9d-92f1-f49036b3df53",
   "metadata": {},
   "outputs": [],
   "source": [
    "class Node:\n",
    "    def __init__(self, data):\n",
    "        self.data = data\n",
    "        self.next = None"
   ]
  },
  {
   "cell_type": "code",
   "execution_count": null,
   "id": "4e57c47d-5cc6-4070-af81-c1a975ff95df",
   "metadata": {},
   "outputs": [],
   "source": [
    "class LinkedList:\n",
    "    def __init__(self):\n",
    "        self.head = None"
   ]
  },
  {
   "cell_type": "code",
   "execution_count": null,
   "id": "6a472138-5af3-4e9a-b230-46a05a87613e",
   "metadata": {},
   "outputs": [],
   "source": [
    "def insert_end(self, data):\n",
    "        new_node = Node(data)\n",
    "        if not self.head:\n",
    "            self.head = new_node\n",
    "            print(f\"Inserted {data} at head\")"
   ]
  },
  {
   "cell_type": "code",
   "execution_count": null,
   "id": "13f68840-a489-4c4c-9521-808bd6de6a53",
   "metadata": {},
   "outputs": [],
   "source": [
    " else:\n",
    "            temp = self.head\n",
    "            while temp.next:\n",
    "                temp = temp.next\n",
    "            temp.next = new_node\n",
    "            print(f\"Inserted {data} at end\")"
   ]
  },
  {
   "cell_type": "code",
   "execution_count": null,
   "id": "563b31a6-b08e-40ff-b674-8f8fe1564e88",
   "metadata": {},
   "outputs": [],
   "source": [
    "  def display(self):\n",
    "        temp = self.head\n",
    "        print(\"LinkedList:\", end=\" \")\n",
    "        while temp:\n",
    "            print(temp.data, end=\" -> \")\n",
    "            temp = temp.next\n",
    "        print(\"None\")"
   ]
  },
  {
   "cell_type": "code",
   "execution_count": null,
   "id": "1bca17df-7efc-4c4e-a866-f5c42677dead",
   "metadata": {},
   "outputs": [],
   "source": [
    "class TreeNode:\n",
    "    def __init__(self, val):\n",
    "        self.val = val\n",
    "        self.left = None\n",
    "        self.right = None"
   ]
  },
  {
   "cell_type": "code",
   "execution_count": null,
   "id": "d88958eb-f825-4f7b-860d-5e57eea77d38",
   "metadata": {},
   "outputs": [],
   "source": [
    "\n",
    "def inorder(root):\n",
    "    if root:\n",
    "        inorder(root.left)\n",
    "        print(root.val, end=\" \")\n",
    "        inorder(root.right)"
   ]
  },
  {
   "cell_type": "code",
   "execution_count": null,
   "id": "844f8375-1821-4a70-8f98-78bc81ac54ea",
   "metadata": {},
   "outputs": [],
   "source": [
    "\n",
    "def preorder(root):\n",
    "    if root:\n",
    "        print(root.val, end=\" \")\n",
    "        preorder(root.left)\n",
    "        preorder(root.right)"
   ]
  },
  {
   "cell_type": "code",
   "execution_count": null,
   "id": "f81429dd-74d3-4b53-b7b4-42f96a39bcc8",
   "metadata": {},
   "outputs": [],
   "source": [
    "def postorder(root):\n",
    "    if root:\n",
    "        postorder(root.left)\n",
    "        postorder(root.right)\n",
    "        print(root.val, end=\" \")\n"
   ]
  },
  {
   "cell_type": "code",
   "execution_count": null,
   "id": "f096211e-9e5f-4446-9095-ad08b6ad262b",
   "metadata": {},
   "outputs": [],
   "source": [
    "class BST:\n",
    "    def __init__(self):\n",
    "        self.root = None\n"
   ]
  },
  {
   "cell_type": "code",
   "execution_count": null,
   "id": "1ac66e76-dfb0-426a-8af5-574c606214d2",
   "metadata": {},
   "outputs": [],
   "source": [
    " def insert(self, val):\n",
    "        self.root = self._insert(self.root, val)"
   ]
  },
  {
   "cell_type": "code",
   "execution_count": null,
   "id": "bd5ff28c-a0fe-42e3-af96-dd8cc5ef14c6",
   "metadata": {},
   "outputs": [],
   "source": [
    "def _insert(self, node, val):\n",
    "        if not node:\n",
    "            print(f\"Inserted {val}\")\n",
    "            return TreeNode(val)\n",
    "        if val < node.val:\n",
    "            node.left = self._insert(node.left, val)\n",
    "        else:\n",
    "            node.right = self._insert(node.right, val)\n",
    "        return node"
   ]
  },
  {
   "cell_type": "code",
   "execution_count": null,
   "id": "cbce805c-a3e9-4eda-bf36-34b16fc467dc",
   "metadata": {},
   "outputs": [],
   "source": [
    "    def inorder(self):\n",
    "        print(\"Inorder Traversal:\")\n",
    "        inorder(self.root)\n",
    "        print()"
   ]
  },
  {
   "cell_type": "code",
   "execution_count": null,
   "id": "622c220b-e7a7-440d-aa2c-65be1cfb1810",
   "metadata": {},
   "outputs": [],
   "source": [
    "if __name__ == \"__main__\":\n",
    "    print(\"--- Stack ---\")\n",
    "    s = Stack()\n",
    "    s.push(1)\n",
    "    s.push(2)\n",
    "    s.pop()\n",
    "    s.display()"
   ]
  },
  {
   "cell_type": "code",
   "execution_count": null,
   "id": "6ea05a3e-b90f-4cb8-8e46-01d0d59d4a1d",
   "metadata": {},
   "outputs": [],
   "source": [
    "   print(\"\\n--- Queue ---\")\n",
    "    q = Queue()\n",
    "    q.enqueue(10)\n",
    "    q.enqueue(20)\n",
    "    q.dequeue()\n",
    "    q.display()"
   ]
  },
  {
   "cell_type": "code",
   "execution_count": null,
   "id": "aa02ba88-d0ac-4052-9649-75aedde3de65",
   "metadata": {},
   "outputs": [],
   "source": [
    " print(\"\\n--- Linked List ---\")\n",
    "    ll = LinkedList()\n",
    "    ll.insert_end(5)\n",
    "    ll.insert_end(10)\n",
    "    ll.display()"
   ]
  },
  {
   "cell_type": "code",
   "execution_count": null,
   "id": "f964680b-a0e2-4109-8340-f93b10035f72",
   "metadata": {},
   "outputs": [],
   "source": [
    " print(\"\\n--- Binary Tree Traversals ---\")\n",
    "    bt_root = TreeNode(1)\n",
    "    bt_root.left = TreeNode(2)\n",
    "    bt_root.right = TreeNode(3)\n",
    "    bt_root.left.left = TreeNode(4)\n",
    "    bt_root.left.right = TreeNode(5)"
   ]
  },
  {
   "cell_type": "code",
   "execution_count": null,
   "id": "b8d34b97-c31e-4d23-8a40-ea27924d16d2",
   "metadata": {},
   "outputs": [],
   "source": [
    "print(\"Inorder:\")\n",
    "    inorder(bt_root)\n",
    "    print(\"\\nPreorder:\")\n",
    "    preorder(bt_root)\n",
    "    print(\"\\nPostorder:\")\n",
    "    postorder(bt_root)"
   ]
  },
  {
   "cell_type": "code",
   "execution_count": null,
   "id": "1840691d-d7c1-4cbd-b7dd-24db4a96c68f",
   "metadata": {},
   "outputs": [],
   "source": [
    " print(\"\\n\\n--- Binary Search Tree ---\")\n",
    "    bst = BST()"
   ]
  },
  {
   "cell_type": "code",
   "execution_count": null,
   "id": "011c41f2-7cf9-41de-8077-565ed6a15598",
   "metadata": {},
   "outputs": [],
   "source": [
    "for val in [7, 3, 9, 1, 5]:\n",
    "        bst.insert(val)\n",
    "    bst.inorder()\n"
   ]
  }
 ],
 "metadata": {
  "kernelspec": {
   "display_name": "Python 3 (ipykernel)",
   "language": "python",
   "name": "python3"
  },
  "language_info": {
   "codemirror_mode": {
    "name": "ipython",
    "version": 3
   },
   "file_extension": ".py",
   "mimetype": "text/x-python",
   "name": "python",
   "nbconvert_exporter": "python",
   "pygments_lexer": "ipython3",
   "version": "3.12.3"
  }
 },
 "nbformat": 4,
 "nbformat_minor": 5
}
