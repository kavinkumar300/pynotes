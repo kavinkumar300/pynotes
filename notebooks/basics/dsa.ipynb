{
 "cells": [
  {
   "cell_type": "code",
   "execution_count": null,
   "id": "56783220-1f28-4436-892f-3bdbaed8c52b",
   "metadata": {},
   "outputs": [],
   "source": [
    "# 20250721"
   ]
  },
  {
   "cell_type": "code",
   "execution_count": null,
   "id": "55993de0-b73d-4b73-a109-aa6abaccc7a2",
   "metadata": {},
   "outputs": [],
   "source": []
  },
  {
   "cell_type": "code",
   "execution_count": 9,
   "id": "afbfb473-79c5-4352-b996-aa8219f94e17",
   "metadata": {},
   "outputs": [
    {
     "name": "stdout",
     "output_type": "stream",
     "text": [
      "=== Linear Search ===\n"
     ]
    }
   ],
   "source": [
    "print(\"=== Linear Search ===\")"
   ]
  },
  {
   "cell_type": "code",
   "execution_count": 10,
   "id": "4b29bf1e-4919-475a-9bec-9ac34695c6b8",
   "metadata": {},
   "outputs": [],
   "source": [
    "arr = [5, 3, 8, 6, 7]\n",
    "target = 6\n",
    "found = False"
   ]
  },
  {
   "cell_type": "code",
   "execution_count": 11,
   "id": "c9fc2ef1-bf1c-454b-9dbb-43a5d288c1e3",
   "metadata": {},
   "outputs": [
    {
     "name": "stdout",
     "output_type": "stream",
     "text": [
      "Found 6 at index 3\n"
     ]
    }
   ],
   "source": [
    "for i in range(len(arr)):\n",
    "    if arr[i] == target:\n",
    "        print(f\"Found {target} at index {i}\")\n",
    "        found = True\n",
    "        break"
   ]
  },
  {
   "cell_type": "code",
   "execution_count": 12,
   "id": "2fba5e02-0ffa-4034-a07d-b675b3954190",
   "metadata": {},
   "outputs": [],
   "source": [
    "if not found:\n",
    "    print(f\"{target} not found\")"
   ]
  },
  {
   "cell_type": "code",
   "execution_count": 13,
   "id": "bdd993d4-943f-4239-adbf-104be1caf6a1",
   "metadata": {},
   "outputs": [
    {
     "name": "stdout",
     "output_type": "stream",
     "text": [
      "\n",
      "=== Bubble Sort ===\n"
     ]
    }
   ],
   "source": [
    "print(\"\\n=== Bubble Sort ===\")\n",
    "arr = [64, 34, 25, 12, 22, 11, 90]"
   ]
  },
  {
   "cell_type": "code",
   "execution_count": 14,
   "id": "7dcc4147-980f-4b90-8e74-e876bdf107ef",
   "metadata": {},
   "outputs": [
    {
     "name": "stdout",
     "output_type": "stream",
     "text": [
      "Unsorted: [64, 34, 25, 12, 22, 11, 90]\n"
     ]
    }
   ],
   "source": [
    "print(\"Unsorted:\", arr)\n",
    "n = len(arr)\n",
    "for i in range(n):\n",
    "    for j in range(0, n - i - 1):\n",
    "        if arr[j] > arr[j + 1]:\n",
    "            arr[j], arr[j + 1] = arr[j + 1], arr[j]"
   ]
  },
  {
   "cell_type": "code",
   "execution_count": 15,
   "id": "094c1176-e555-4577-80af-a1af6bf3f2e1",
   "metadata": {},
   "outputs": [
    {
     "name": "stdout",
     "output_type": "stream",
     "text": [
      "Sorted: [11, 12, 22, 25, 34, 64, 90]\n"
     ]
    }
   ],
   "source": [
    "print(\"Sorted:\", arr)"
   ]
  },
  {
   "cell_type": "code",
   "execution_count": 16,
   "id": "eb8cafd7-9fed-450c-8402-79aa4fe67772",
   "metadata": {},
   "outputs": [
    {
     "name": "stdout",
     "output_type": "stream",
     "text": [
      "\n",
      "=== Stack Using List ===\n"
     ]
    }
   ],
   "source": [
    "print(\"\\n=== Stack Using List ===\")\n",
    "stack = []\n",
    "stack.append(1)\n",
    "stack.append(2)\n",
    "stack.append(3)"
   ]
  },
  {
   "cell_type": "code",
   "execution_count": 17,
   "id": "5f4b51be-417e-42cb-82b9-bd8cc07058fb",
   "metadata": {},
   "outputs": [
    {
     "name": "stdout",
     "output_type": "stream",
     "text": [
      "Stack after pushing: [1, 2, 3]\n"
     ]
    }
   ],
   "source": [
    "print(\"Stack after pushing:\", stack)"
   ]
  },
  {
   "cell_type": "code",
   "execution_count": 18,
   "id": "754d38c5-d355-4f63-9b79-a3586f1a28c8",
   "metadata": {},
   "outputs": [
    {
     "name": "stdout",
     "output_type": "stream",
     "text": [
      "Stack after popping: [1, 2]\n"
     ]
    }
   ],
   "source": [
    "stack.pop()\n",
    "print(\"Stack after popping:\", stack)"
   ]
  },
  {
   "cell_type": "code",
   "execution_count": 19,
   "id": "a64b6a8d-9fc1-4aa9-82e2-a0d89e38e7fc",
   "metadata": {},
   "outputs": [
    {
     "name": "stdout",
     "output_type": "stream",
     "text": [
      "\n",
      "=== Queue Using deque ===\n"
     ]
    }
   ],
   "source": [
    "print(\"\\n=== Queue Using deque ===\")\n",
    "from collections import deque\n",
    "queue = deque()\n",
    "queue.append(10)\n",
    "queue.append(20)\n",
    "queue.append(30)"
   ]
  },
  {
   "cell_type": "code",
   "execution_count": 20,
   "id": "10c1ff6c-f229-416d-9dd6-b2e4f291ba19",
   "metadata": {},
   "outputs": [
    {
     "name": "stdout",
     "output_type": "stream",
     "text": [
      "Queue after enqueue: [10, 20, 30]\n"
     ]
    }
   ],
   "source": [
    "print(\"Queue after enqueue:\", list(queue))"
   ]
  },
  {
   "cell_type": "code",
   "execution_count": 21,
   "id": "bda2ab64-e4bf-4e38-865b-e8bb9ac924f8",
   "metadata": {},
   "outputs": [
    {
     "name": "stdout",
     "output_type": "stream",
     "text": [
      "Queue after dequeue: [20, 30]\n"
     ]
    }
   ],
   "source": [
    "queue.popleft()\n",
    "print(\"Queue after dequeue:\", list(queue))"
   ]
  },
  {
   "cell_type": "code",
   "execution_count": 22,
   "id": "52b85a91-67f9-4ddf-8612-1db14faa628b",
   "metadata": {},
   "outputs": [
    {
     "name": "stdout",
     "output_type": "stream",
     "text": [
      "\n",
      "=== Binary Search ===\n"
     ]
    }
   ],
   "source": [
    "print(\"\\n=== Binary Search ===\")"
   ]
  },
  {
   "cell_type": "code",
   "execution_count": 23,
   "id": "af0de0ac-bca9-4027-9a4d-9407009ec44b",
   "metadata": {},
   "outputs": [],
   "source": [
    "arr = [2, 4, 6, 8, 10, 12, 14]\n",
    "target = 10\n",
    "low = 0\n",
    "high = len(arr) - 1\n",
    "found = False"
   ]
  },
  {
   "cell_type": "code",
   "execution_count": null,
   "id": "3c20c23a-7fcc-4841-ad37-dc4aea359400",
   "metadata": {},
   "outputs": [],
   "source": [
    "while low <= high:\n",
    "    mid = (low + high) // 2\n",
    "    if arr[mid] == target:\n",
    "        print(f\"Found {target} at index {mid}\")\n",
    "        found = True\n",
    "        break"
   ]
  },
  {
   "cell_type": "code",
   "execution_count": null,
   "id": "6e961622-2fc8-4c52-8cbb-f89b37c52cbe",
   "metadata": {},
   "outputs": [],
   "source": [
    "elif arr[mid] < target:\n",
    "        low = mid + 1"
   ]
  },
  {
   "cell_type": "code",
   "execution_count": null,
   "id": "ccc8f728-06f2-4a3c-86a8-4b673859bece",
   "metadata": {},
   "outputs": [],
   "source": [
    "else:\n",
    "        high = mid - 1"
   ]
  },
  {
   "cell_type": "code",
   "execution_count": null,
   "id": "e7b54c3a-a07e-4eab-9b9c-63d1ad4a4fe0",
   "metadata": {},
   "outputs": [],
   "source": [
    "if not found:\n",
    "    print(f\"{target} not found\")"
   ]
  },
  {
   "cell_type": "code",
   "execution_count": null,
   "id": "ccd1c702-4b23-4df9-bfe5-9366beb583c0",
   "metadata": {},
   "outputs": [],
   "source": [
    "print(\"\\n=== Factorial Using Recursion ===\")\n",
    "def factorial(n):\n",
    "    if n == 1:\n",
    "        return 1\n",
    "    return n * factorial(n - 1)"
   ]
  },
  {
   "cell_type": "code",
   "execution_count": null,
   "id": "9a7eb211-eba7-40fd-baff-33f04e1e7f46",
   "metadata": {},
   "outputs": [],
   "source": [
    "print(\"5! =\", factorial(5))"
   ]
  },
  {
   "cell_type": "code",
   "execution_count": null,
   "id": "05c7c826-1477-4cc3-a612-1cd86de68a67",
   "metadata": {},
   "outputs": [],
   "source": [
    "print(\"\\n=== Simple Singly Linked List ===\")\n",
    "class Node:\n",
    "    def __init__(self, data):\n",
    "        self.data = data\n",
    "        self.next = None"
   ]
  },
  {
   "cell_type": "code",
   "execution_count": null,
   "id": "c19f9e36-2334-4df1-a429-f8d2137cc7ba",
   "metadata": {},
   "outputs": [],
   "source": [
    "head = Node(1)\n",
    "second = Node(2)\n",
    "third = Node(3)"
   ]
  },
  {
   "cell_type": "code",
   "execution_count": null,
   "id": "da25aa8d-3bcb-4229-b56e-76c8baffd10c",
   "metadata": {},
   "outputs": [],
   "source": [
    "head.next = second\n",
    "second.next = third"
   ]
  },
  {
   "cell_type": "code",
   "execution_count": null,
   "id": "c7973d50-3b93-4261-a65a-9176c13ac216",
   "metadata": {},
   "outputs": [],
   "source": [
    "current = head\n",
    "while current:"
   ]
  },
  {
   "cell_type": "code",
   "execution_count": null,
   "id": "8802201d-0edf-4da2-93a0-70e50b28f93a",
   "metadata": {},
   "outputs": [],
   "source": [
    "print(current.data, end=\" -> \")\n",
    "    current = current.next\n",
    "print(\"None\")"
   ]
  },
  {
   "cell_type": "code",
   "execution_count": null,
   "id": "912bc476-bd0c-4e90-b30c-398fbb2465ff",
   "metadata": {},
   "outputs": [],
   "source": [
    "print(\"\\n=== Dictionary (Hash Table style) ===\")"
   ]
  },
  {
   "cell_type": "code",
   "execution_count": null,
   "id": "0f0f6c59-c765-4f43-859a-2b910c7b5217",
   "metadata": {},
   "outputs": [],
   "source": [
    "hash_map = {}"
   ]
  },
  {
   "cell_type": "code",
   "execution_count": null,
   "id": "9bfaee1c-3de5-4eb7-85f6-77ff1e44e8c7",
   "metadata": {},
   "outputs": [],
   "source": [
    "hash_map[\"apple\"] = 100"
   ]
  },
  {
   "cell_type": "code",
   "execution_count": null,
   "id": "dd503a73-9e9a-4427-8476-634f6e922092",
   "metadata": {},
   "outputs": [],
   "source": [
    "hash_map[\"banana\"] = 200"
   ]
  },
  {
   "cell_type": "code",
   "execution_count": null,
   "id": "bbfe7e6f-040c-447b-9685-408dffe90594",
   "metadata": {},
   "outputs": [],
   "source": [
    "hash_map[\"orange\"] = 150"
   ]
  },
  {
   "cell_type": "code",
   "execution_count": null,
   "id": "5ae7174f-7921-4fd0-8869-0b07f9f0ebab",
   "metadata": {},
   "outputs": [],
   "source": [
    "for key in hash_map:\n",
    "    print(f\"{key} => {hash_map[key]}\")"
   ]
  }
 ],
 "metadata": {
  "kernelspec": {
   "display_name": "Python 3 (ipykernel)",
   "language": "python",
   "name": "python3"
  },
  "language_info": {
   "codemirror_mode": {
    "name": "ipython",
    "version": 3
   },
   "file_extension": ".py",
   "mimetype": "text/x-python",
   "name": "python",
   "nbconvert_exporter": "python",
   "pygments_lexer": "ipython3",
   "version": "3.12.3"
  }
 },
 "nbformat": 4,
 "nbformat_minor": 5
}
