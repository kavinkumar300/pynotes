{
 "cells": [
  {
   "cell_type": "code",
   "execution_count": null,
   "id": "80b590b2-a1f4-4c47-a1c8-8330818efac8",
   "metadata": {},
   "outputs": [],
   "source": [
    "# 20250721"
   ]
  },
  {
   "cell_type": "code",
   "execution_count": null,
   "id": "d8f49512-24b0-4809-8f23-1fb9a9ab3fb7",
   "metadata": {},
   "outputs": [],
   "source": []
  },
  {
   "cell_type": "code",
   "execution_count": null,
   "id": "0ee5aac3-6153-404b-8b4a-dded149a641d",
   "metadata": {},
   "outputs": [],
   "source": [
    "print(\"=== Linear Search ===\")"
   ]
  },
  {
   "cell_type": "code",
   "execution_count": null,
   "id": "de58c8ff-9445-41dd-926c-438132091a80",
   "metadata": {},
   "outputs": [],
   "source": [
    "arr = [5, 2, 9, 1, 7]\n",
    "target = 9\n",
    "found = False"
   ]
  },
  {
   "cell_type": "code",
   "execution_count": null,
   "id": "773b5b71-0096-4410-b732-115b153fb9c1",
   "metadata": {},
   "outputs": [],
   "source": [
    "for i in range(len(arr)):"
   ]
  },
  {
   "cell_type": "code",
   "execution_count": null,
   "id": "34103877-3b09-4b2c-9885-975c71558570",
   "metadata": {},
   "outputs": [],
   "source": [
    "if arr[i] == target:"
   ]
  },
  {
   "cell_type": "code",
   "execution_count": null,
   "id": "f2ecbdfa-1fbd-4bac-96e0-29a6cf580b75",
   "metadata": {},
   "outputs": [],
   "source": [
    "print(f\"{target} found at index {i}\")"
   ]
  },
  {
   "cell_type": "code",
   "execution_count": null,
   "id": "8d1e1101-d80a-45fa-84be-5b3b3a41591e",
   "metadata": {},
   "outputs": [],
   "source": [
    " found = True\n",
    "        break"
   ]
  },
  {
   "cell_type": "code",
   "execution_count": null,
   "id": "02b931f8-d1f1-40d2-8d1d-435dd2add7e7",
   "metadata": {},
   "outputs": [],
   "source": [
    "if not found:\n",
    "    print(\"Element not found\")"
   ]
  },
  {
   "cell_type": "code",
   "execution_count": null,
   "id": "9141348b-d862-4d05-811e-500d58eec5e6",
   "metadata": {},
   "outputs": [],
   "source": [
    "print(\"\\n\" + \"=\"*50 + \"\\n\")"
   ]
  },
  {
   "cell_type": "code",
   "execution_count": null,
   "id": "bd3d639a-468c-425b-aa66-57e920a6f684",
   "metadata": {},
   "outputs": [],
   "source": [
    "print(\"=== Bubble Sort ===\")\n",
    "arr = [64, 25, 12, 22, 11]"
   ]
  },
  {
   "cell_type": "code",
   "execution_count": null,
   "id": "2dae55bd-6e0b-48fc-a331-9d90dee5d4bc",
   "metadata": {},
   "outputs": [],
   "source": [
    "print(\"Before sort:\", arr)\n",
    "n = len(arr)"
   ]
  },
  {
   "cell_type": "code",
   "execution_count": null,
   "id": "3d3375c3-c22b-4658-8285-11b7e9710b69",
   "metadata": {},
   "outputs": [],
   "source": [
    "for i in range(n):"
   ]
  },
  {
   "cell_type": "code",
   "execution_count": null,
   "id": "2216891d-55d2-4960-a3c6-1cb54380ba03",
   "metadata": {},
   "outputs": [],
   "source": [
    "for j in range(0, n-i-1):"
   ]
  },
  {
   "cell_type": "code",
   "execution_count": null,
   "id": "e817817d-3027-44f9-92e4-9706f892e5df",
   "metadata": {},
   "outputs": [],
   "source": [
    " if arr[j] > arr[j+1]:\n",
    "            arr[j], arr[j+1] = arr[j+1], arr[j]"
   ]
  },
  {
   "cell_type": "code",
   "execution_count": null,
   "id": "6dc720f3-a9da-4b2a-80e1-8290c6515bc6",
   "metadata": {},
   "outputs": [],
   "source": [
    "print(\"After sort:\", arr)"
   ]
  },
  {
   "cell_type": "code",
   "execution_count": null,
   "id": "e35b9025-181f-47a4-8e32-ddc42d83175d",
   "metadata": {},
   "outputs": [],
   "source": [
    "print(\"\\n\" + \"=\"*50 + \"\\n\")"
   ]
  },
  {
   "cell_type": "code",
   "execution_count": null,
   "id": "5f3f8f03-9d35-48cf-a477-1e15a58b6440",
   "metadata": {},
   "outputs": [],
   "source": [
    "print(\"=== Stack (LIFO) ===\")"
   ]
  },
  {
   "cell_type": "code",
   "execution_count": null,
   "id": "54331c9e-4638-4119-ad9f-2f942f229abd",
   "metadata": {},
   "outputs": [],
   "source": [
    "stack = []\n",
    "stack.append(10)\n",
    "stack.append(20)\n",
    "stack.append(30)"
   ]
  },
  {
   "cell_type": "code",
   "execution_count": null,
   "id": "dce3b478-af72-4b3f-9675-9c9b011a72d5",
   "metadata": {},
   "outputs": [],
   "source": [
    "print(\"Stack after push:\", stack)"
   ]
  },
  {
   "cell_type": "code",
   "execution_count": null,
   "id": "cbbdd64f-541e-4e35-a708-68d9749245b2",
   "metadata": {},
   "outputs": [],
   "source": [
    "stack.pop()"
   ]
  },
  {
   "cell_type": "code",
   "execution_count": null,
   "id": "f4d2a9bd-5d38-40d7-8cf7-baddf08d42f9",
   "metadata": {},
   "outputs": [],
   "source": [
    "print(\"Stack after pop:\", stack)"
   ]
  },
  {
   "cell_type": "code",
   "execution_count": null,
   "id": "460e13b8-6ddb-4a27-b642-dec7fa3cb5d9",
   "metadata": {},
   "outputs": [],
   "source": [
    "print(\"\\n\" + \"=\"*50 + \"\\n\")"
   ]
  },
  {
   "cell_type": "code",
   "execution_count": null,
   "id": "95cdaac7-4e59-46ee-8a9f-4b0edd6091ac",
   "metadata": {},
   "outputs": [],
   "source": [
    "print(\"=== Queue (FIFO) ===\")\n",
    "from collections import deque"
   ]
  },
  {
   "cell_type": "code",
   "execution_count": null,
   "id": "0ba29b40-e77f-4ba8-b7ee-589572588279",
   "metadata": {},
   "outputs": [],
   "source": [
    "queue = deque()\n",
    "queue.append(100)\n",
    "queue.append(200)\n",
    "queue.append(300)"
   ]
  },
  {
   "cell_type": "code",
   "execution_count": null,
   "id": "c4d95ec8-2135-46ff-8c96-428006e3af61",
   "metadata": {},
   "outputs": [],
   "source": [
    "print(\"Queue after enqueue:\", list(queue))"
   ]
  },
  {
   "cell_type": "code",
   "execution_count": null,
   "id": "b95767c0-6940-4d3b-8e77-6a2d108fe974",
   "metadata": {},
   "outputs": [],
   "source": [
    "queue.popleft()"
   ]
  },
  {
   "cell_type": "code",
   "execution_count": null,
   "id": "db88401d-9b9a-4929-934c-bfd1a00c7024",
   "metadata": {},
   "outputs": [],
   "source": [
    "print(\"Queue after dequeue:\", list(queue))"
   ]
  },
  {
   "cell_type": "code",
   "execution_count": null,
   "id": "44e29309-7c37-415e-9ade-4f969ae7078d",
   "metadata": {},
   "outputs": [],
   "source": [
    "print(\"\\n\" + \"=\"*50 + \"\\n\")"
   ]
  },
  {
   "cell_type": "code",
   "execution_count": null,
   "id": "f578456f-f088-45c3-bb97-0db45165a190",
   "metadata": {},
   "outputs": [],
   "source": [
    "print(\"=== Singly Linked List ===\")"
   ]
  },
  {
   "cell_type": "code",
   "execution_count": null,
   "id": "29f11717-e059-4f95-ba3e-b5fdc27b688c",
   "metadata": {},
   "outputs": [],
   "source": [
    "class Node:\n",
    "    def __init__(self, data):\n",
    "        self.data = data\n",
    "        self.next = None"
   ]
  },
  {
   "cell_type": "code",
   "execution_count": null,
   "id": "a5051dbb-dc39-4dd4-8ff0-1b46279a8bd4",
   "metadata": {},
   "outputs": [],
   "source": [
    "head = Node(1)\n",
    "node2 = Node(2)\n",
    "node3 = Node(3)"
   ]
  },
  {
   "cell_type": "code",
   "execution_count": null,
   "id": "f93857ba-129e-4aca-87d3-d700688c8b54",
   "metadata": {},
   "outputs": [],
   "source": [
    "head.next = node2"
   ]
  },
  {
   "cell_type": "code",
   "execution_count": null,
   "id": "20d31908-9421-4081-b13f-67ecb4341b4e",
   "metadata": {},
   "outputs": [],
   "source": [
    "node2.next = node3"
   ]
  },
  {
   "cell_type": "code",
   "execution_count": null,
   "id": "a922d22a-68c4-46e3-9513-f595b2f4baa4",
   "metadata": {},
   "outputs": [],
   "source": [
    "temp = head"
   ]
  },
  {
   "cell_type": "code",
   "execution_count": null,
   "id": "fb14bb64-a8b6-4b24-9244-7886fab7c99e",
   "metadata": {},
   "outputs": [],
   "source": [
    "while temp:"
   ]
  },
  {
   "cell_type": "code",
   "execution_count": null,
   "id": "b4839ba5-18e9-4b8f-93e4-a75abceb5027",
   "metadata": {},
   "outputs": [],
   "source": [
    "  print(temp.data, end=\" -> \")"
   ]
  },
  {
   "cell_type": "code",
   "execution_count": null,
   "id": "62815e57-fa66-442c-b986-a0315c27f978",
   "metadata": {},
   "outputs": [],
   "source": [
    "temp = temp.next"
   ]
  },
  {
   "cell_type": "code",
   "execution_count": null,
   "id": "9633be80-6ab2-44a0-9ba4-282f7635698d",
   "metadata": {},
   "outputs": [],
   "source": [
    "print(\"None\")"
   ]
  },
  {
   "cell_type": "code",
   "execution_count": null,
   "id": "b8ad9a4d-6062-4e53-8f36-0cfe1e815591",
   "metadata": {},
   "outputs": [],
   "source": [
    "print(\"\\n\" + \"=\"*50 + \"\\n\")"
   ]
  },
  {
   "cell_type": "code",
   "execution_count": null,
   "id": "4b765e4d-3975-43b1-b747-a491debbbe5d",
   "metadata": {},
   "outputs": [],
   "source": [
    "print(\"=== Binary Search ===\")"
   ]
  },
  {
   "cell_type": "code",
   "execution_count": null,
   "id": "d8b9a198-3079-4a58-9da6-520bc8cf9c7d",
   "metadata": {},
   "outputs": [],
   "source": [
    "arr = [1, 3, 5, 7, 9, 11]\n",
    "target = 7\n",
    "low = 0\n",
    "high = len(arr) - 1\n",
    "found = False"
   ]
  },
  {
   "cell_type": "code",
   "execution_count": null,
   "id": "08434651-10d7-4194-acd8-d50e6ed73205",
   "metadata": {},
   "outputs": [],
   "source": [
    "while low <= high:"
   ]
  },
  {
   "cell_type": "code",
   "execution_count": null,
   "id": "aa981b6f-edef-4ec9-86a6-fe641bc8ae9c",
   "metadata": {},
   "outputs": [],
   "source": [
    "mid = (low + high) // 2"
   ]
  },
  {
   "cell_type": "code",
   "execution_count": null,
   "id": "b4229fbb-1de7-4505-a3a9-7bf8e12b6e54",
   "metadata": {},
   "outputs": [],
   "source": [
    "if arr[mid] == target:"
   ]
  },
  {
   "cell_type": "code",
   "execution_count": null,
   "id": "0bfce5b3-4d75-461e-a548-70092185b470",
   "metadata": {},
   "outputs": [],
   "source": [
    "print(f\"{target} found at index {mid}\")"
   ]
  },
  {
   "cell_type": "code",
   "execution_count": null,
   "id": "9a662123-8110-4340-aec8-320483a0fe88",
   "metadata": {},
   "outputs": [],
   "source": [
    "found = True\n",
    "        break"
   ]
  },
  {
   "cell_type": "code",
   "execution_count": null,
   "id": "51b7fa60-1bd2-4cfd-9641-9232e00220bf",
   "metadata": {},
   "outputs": [],
   "source": [
    " elif arr[mid] < target:\n",
    "        low = mid + 1"
   ]
  },
  {
   "cell_type": "code",
   "execution_count": null,
   "id": "8f60f442-98f8-43e4-bc91-fa8d2ec95ffd",
   "metadata": {},
   "outputs": [],
   "source": [
    " else:\n",
    "        high = mid - 1"
   ]
  },
  {
   "cell_type": "code",
   "execution_count": null,
   "id": "dd80bbcf-7602-4eb5-9e28-4afba2f00e7c",
   "metadata": {},
   "outputs": [],
   "source": [
    "if not found:\n",
    "    print(\"Element not found\")"
   ]
  },
  {
   "cell_type": "code",
   "execution_count": null,
   "id": "a79ac993-63d6-45b1-ae60-ddf2abe44ca6",
   "metadata": {},
   "outputs": [],
   "source": [
    "print(\"\\n\" + \"=\"*50 + \"\\n\")"
   ]
  },
  {
   "cell_type": "code",
   "execution_count": null,
   "id": "029e1a4c-9480-4dff-8aba-b474bfbcc94f",
   "metadata": {},
   "outputs": [],
   "source": [
    "print(\"=== Factorial Using Recursion ===\")"
   ]
  },
  {
   "cell_type": "code",
   "execution_count": null,
   "id": "0d6bf8ba-ff35-4e65-9997-222f0f7942f1",
   "metadata": {},
   "outputs": [],
   "source": [
    "def factorial(n):\n",
    "    if n == 1:\n",
    "        return 1\n",
    "    return n * factorial(n - 1)"
   ]
  },
  {
   "cell_type": "code",
   "execution_count": null,
   "id": "a7aec707-f7bd-4134-9171-60e277f83659",
   "metadata": {},
   "outputs": [],
   "source": [
    "print(\"5! =\", factorial(5))"
   ]
  },
  {
   "cell_type": "code",
   "execution_count": null,
   "id": "1019849e-8378-42eb-a8a2-749968a07d23",
   "metadata": {},
   "outputs": [],
   "source": [
    "print(\"\\n\" + \"=\"*50 + \"\\n\")"
   ]
  },
  {
   "cell_type": "code",
   "execution_count": null,
   "id": "bd710df8-ce64-4ca2-bf9a-26d8d229cdac",
   "metadata": {},
   "outputs": [],
   "source": [
    "print(\"=== Merge Sort ===\")"
   ]
  },
  {
   "cell_type": "code",
   "execution_count": null,
   "id": "dab37351-9e6c-4ba4-9b12-57dbe7d5a231",
   "metadata": {},
   "outputs": [],
   "source": [
    "def merge_sort(arr):"
   ]
  },
  {
   "cell_type": "code",
   "execution_count": null,
   "id": "012682ce-5992-4a3a-bcd2-215fa3a385ce",
   "metadata": {},
   "outputs": [],
   "source": [
    " if len(arr) > 1:\n",
    "        mid = len(arr) // 2\n",
    "        L = arr[:mid]\n",
    "        R = arr[mid:]"
   ]
  },
  {
   "cell_type": "code",
   "execution_count": null,
   "id": "4def3d23-9e15-4acb-8c20-0a02ae34d5aa",
   "metadata": {},
   "outputs": [],
   "source": [
    " merge_sort(L)\n",
    "        merge_sort(R)\n",
    "\n",
    "        i = j = k = 0"
   ]
  },
  {
   "cell_type": "code",
   "execution_count": null,
   "id": "6680ac45-0823-42e7-bdd4-f2c36b6a6507",
   "metadata": {},
   "outputs": [],
   "source": [
    "while i < len(L) and j < len(R):\n",
    "            if L[i] < R[j]:\n",
    "                arr[k] = L[i]\n",
    "                i += 1"
   ]
  },
  {
   "cell_type": "code",
   "execution_count": null,
   "id": "04a89e56-a981-40e6-a24a-2daea309e3f1",
   "metadata": {},
   "outputs": [],
   "source": [
    "  else:\n",
    "                arr[k] = R[j]\n",
    "                j += 1\n",
    "            k += 1"
   ]
  },
  {
   "cell_type": "code",
   "execution_count": null,
   "id": "7f89c341-a300-460e-bff4-a9c13a3c8526",
   "metadata": {},
   "outputs": [],
   "source": [
    "while i < len(L):\n",
    "            arr[k] = L[i]\n",
    "            i += 1\n",
    "            k += 1"
   ]
  },
  {
   "cell_type": "code",
   "execution_count": null,
   "id": "d05a3a15-4c72-443e-a9e6-45410c2a0082",
   "metadata": {},
   "outputs": [],
   "source": [
    " while j < len(R):\n",
    "            arr[k] = R[j]\n",
    "            j += 1\n",
    "            k += 1"
   ]
  },
  {
   "cell_type": "code",
   "execution_count": null,
   "id": "fe5e4b57-c6b4-4ff3-ac2d-182f7e6cad99",
   "metadata": {},
   "outputs": [],
   "source": [
    "merge_arr = [38, 27, 43, 3, 9, 82, 10]\n",
    "print(\"Before sort:\", merge_arr)"
   ]
  },
  {
   "cell_type": "code",
   "execution_count": null,
   "id": "99e5d6e2-6f91-42ca-80fe-fbf8190df791",
   "metadata": {},
   "outputs": [],
   "source": [
    "merge_sort(merge_arr)\n",
    "print(\"After sort:\", merge_arr)"
   ]
  },
  {
   "cell_type": "code",
   "execution_count": null,
   "id": "3ff7628f-537c-4c1e-9243-d045ca36dfce",
   "metadata": {},
   "outputs": [],
   "source": [
    "print(\"\\n\" + \"=\"*50 + \"\\n\")"
   ]
  },
  {
   "cell_type": "code",
   "execution_count": null,
   "id": "284400eb-f210-474f-804d-36bae286e615",
   "metadata": {},
   "outputs": [],
   "source": [
    "print(\"=== Hash Table ===\")"
   ]
  },
  {
   "cell_type": "code",
   "execution_count": null,
   "id": "d81dd322-8e7c-4bb7-bdb1-f49d144069f9",
   "metadata": {},
   "outputs": [],
   "source": [
    "hash_table = {}\n",
    "hash_table[\"name\"] = \"Alice\"\n",
    "hash_table[\"age\"] = 25\n",
    "hash_table[\"city\"] = \"New York\"\n"
   ]
  },
  {
   "cell_type": "code",
   "execution_count": null,
   "id": "6dba97c4-1ddb-4cca-9138-e4920cdbab40",
   "metadata": {},
   "outputs": [],
   "source": [
    "for key in hash_table:\n",
    "    print(f\"{key}: {hash_table[key]}\")"
   ]
  },
  {
   "cell_type": "code",
   "execution_count": null,
   "id": "317c4dc1-d3fb-4175-8b18-0472bf15c311",
   "metadata": {},
   "outputs": [],
   "source": [
    "print(\"\\n\" + \"=\"*50 + \"\\n\")"
   ]
  },
  {
   "cell_type": "code",
   "execution_count": null,
   "id": "ccf9a37a-e526-4aff-b662-5d26f7a3db60",
   "metadata": {},
   "outputs": [],
   "source": [
    "graph = {\n",
    "    'A': ['B', 'C'],\n",
    "    'B': ['D', 'E'],\n",
    "    'C': ['F'],\n",
    "    'D': [],\n",
    "    'E': ['F'],\n",
    "    'F': []\n",
    "}"
   ]
  },
  {
   "cell_type": "code",
   "execution_count": null,
   "id": "6e212da0-3b20-4147-9674-0b6b8fb7969c",
   "metadata": {},
   "outputs": [],
   "source": [
    "visited = set()\n",
    "queue = []"
   ]
  },
  {
   "cell_type": "code",
   "execution_count": null,
   "id": "ab5d1937-df15-460e-ab5d-5e7d2ce2a157",
   "metadata": {},
   "outputs": [],
   "source": [
    "queue.append('A')\n",
    "visited.add('A')"
   ]
  },
  {
   "cell_type": "code",
   "execution_count": null,
   "id": "c04d135d-13e0-4a01-b1a1-0fd306509056",
   "metadata": {},
   "outputs": [],
   "source": [
    "while queue:\n",
    "    node = queue.pop(0)"
   ]
  },
  {
   "cell_type": "code",
   "execution_count": null,
   "id": "b59efbce-095b-4050-82cf-360ef8373a2a",
   "metadata": {},
   "outputs": [],
   "source": [
    "print(node, end=\" \")"
   ]
  },
  {
   "cell_type": "code",
   "execution_count": null,
   "id": "f1b6e060-6ed1-4671-a64d-e3cfa4934852",
   "metadata": {},
   "outputs": [],
   "source": [
    " for neighbor in graph[node]:\n",
    "        if neighbor not in visited:\n",
    "            visited.add(neighbor)\n",
    "            queue.append(neighbor)\n"
   ]
  },
  {
   "cell_type": "code",
   "execution_count": null,
   "id": "b729c08e-fb5b-492b-961f-10230ebf61f6",
   "metadata": {},
   "outputs": [],
   "source": [
    "print(\"\\n\" + \"=\"*50 + \"\\n\")"
   ]
  },
  {
   "cell_type": "code",
   "execution_count": null,
   "id": "53b37260-6fab-44d1-8e9b-29cfcee6cd94",
   "metadata": {},
   "outputs": [],
   "source": [
    "print(\"=== Binary Tree Inorder Traversal ===\")"
   ]
  },
  {
   "cell_type": "code",
   "execution_count": null,
   "id": "d91900f9-8736-4cfd-b6b5-780ea155f2c7",
   "metadata": {},
   "outputs": [],
   "source": [
    "class TreeNode:\n",
    "    def __init__(self, key):\n",
    "        self.left = None\n",
    "        self.right = None\n",
    "        self.val = key"
   ]
  },
  {
   "cell_type": "code",
   "execution_count": null,
   "id": "29de3f3a-ac9a-4e9e-971f-c4f7e0828891",
   "metadata": {},
   "outputs": [],
   "source": [
    "def inorder(root):\n",
    "    if root:\n",
    "        inorder(root.left)\n",
    "        print(root.val, end=' ')\n",
    "        inorder(root.right)"
   ]
  },
  {
   "cell_type": "code",
   "execution_count": null,
   "id": "215d4548-3351-4afa-9658-327f40b864c3",
   "metadata": {},
   "outputs": [],
   "source": [
    "root = TreeNode(50)\n",
    "root.left = TreeNode(30)\n",
    "root.right = TreeNode(70)\n",
    "root.left.left = TreeNode(20)"
   ]
  },
  {
   "cell_type": "code",
   "execution_count": null,
   "id": "a736bfa1-5f15-453b-ac8c-1891bdac07b3",
   "metadata": {},
   "outputs": [],
   "source": [
    "root.left.right = TreeNode(40)\n",
    "root.right.left = TreeNode(60)\n",
    "root.right.right = TreeNode(80)\n"
   ]
  },
  {
   "cell_type": "code",
   "execution_count": null,
   "id": "3d92a2db-9d55-448c-a1fd-f8da5bc71fe0",
   "metadata": {},
   "outputs": [],
   "source": [
    "print(\"Inorder traversal:\")\n",
    "inorder(root)"
   ]
  },
  {
   "cell_type": "code",
   "execution_count": null,
   "id": "fb4d13e8-0a15-4618-a55d-58762dca14dd",
   "metadata": {},
   "outputs": [],
   "source": [
    "print(\"\\n\" + \"=\"*50 + \"\\n\")"
   ]
  }
 ],
 "metadata": {
  "kernelspec": {
   "display_name": "Python 3 (ipykernel)",
   "language": "python",
   "name": "python3"
  },
  "language_info": {
   "codemirror_mode": {
    "name": "ipython",
    "version": 3
   },
   "file_extension": ".py",
   "mimetype": "text/x-python",
   "name": "python",
   "nbconvert_exporter": "python",
   "pygments_lexer": "ipython3",
   "version": "3.12.3"
  }
 },
 "nbformat": 4,
 "nbformat_minor": 5
}
