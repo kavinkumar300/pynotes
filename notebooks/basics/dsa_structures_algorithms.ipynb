{
 "cells": [
  {
   "cell_type": "code",
   "execution_count": null,
   "id": "ed203da2-02f6-4e57-bcea-4d8795e2f22e",
   "metadata": {},
   "outputs": [],
   "source": [
    "# 20250721"
   ]
  },
  {
   "cell_type": "code",
   "execution_count": null,
   "id": "2feffabc-0bf7-488a-8af0-9771c8f7148f",
   "metadata": {},
   "outputs": [],
   "source": [
    "https://chatgpt.com/c/687e332e-1d00-8012-b8a4-92d0fc133b42"
   ]
  },
  {
   "cell_type": "code",
   "execution_count": null,
   "id": "dc8b0753-a5fa-4e2b-95a8-16d805f0831f",
   "metadata": {},
   "outputs": [],
   "source": [
    "from collections import deque, defaultdict\n",
    "import heapq"
   ]
  },
  {
   "cell_type": "code",
   "execution_count": null,
   "id": "d89e6963-f1dd-4f94-b96d-0694237cecbd",
   "metadata": {},
   "outputs": [],
   "source": [
    "class Stack:"
   ]
  },
  {
   "cell_type": "code",
   "execution_count": null,
   "id": "f7e62ee6-1488-49d6-8cf8-b2914677c584",
   "metadata": {},
   "outputs": [],
   "source": [
    "def __init__(self):\n",
    "        self.items = []\n"
   ]
  },
  {
   "cell_type": "code",
   "execution_count": null,
   "id": "9ad09400-dee5-4d05-88f4-68137d6075d9",
   "metadata": {},
   "outputs": [],
   "source": [
    "  def push(self, item):\n",
    "        print(f\"Stack push: {item}\")\n",
    "        self.items.append(item)\n"
   ]
  },
  {
   "cell_type": "code",
   "execution_count": null,
   "id": "890abfc2-ac55-4fef-bf2a-9a6415d226a7",
   "metadata": {},
   "outputs": [],
   "source": [
    " def pop(self):\n",
    "        if self.items:\n",
    "            item = self.items.pop()\n",
    "            print(f\"Stack pop: {item}\")\n",
    "            return item\n",
    "        return None"
   ]
  },
  {
   "cell_type": "code",
   "execution_count": null,
   "id": "15deb15b-0741-4a78-8180-d9965560a1fc",
   "metadata": {},
   "outputs": [],
   "source": [
    "def is_empty(self):\n",
    "        return len(self.items) == 0\n"
   ]
  },
  {
   "cell_type": "code",
   "execution_count": null,
   "id": "3e5496f2-a136-46dd-940c-74c9f1697154",
   "metadata": {},
   "outputs": [],
   "source": [
    "class Queue:\n",
    "    def __init__(self):\n",
    "        self.items = deque()\n"
   ]
  },
  {
   "cell_type": "code",
   "execution_count": null,
   "id": "1208718a-816f-416b-aa10-3403377d5359",
   "metadata": {},
   "outputs": [],
   "source": [
    "def enqueue(self, item):\n",
    "        print(f\"Queue enqueue: {item}\")\n",
    "        self.items.append(item)\n"
   ]
  },
  {
   "cell_type": "code",
   "execution_count": null,
   "id": "4416e69a-7adc-4ade-bc7e-f9bc72286e05",
   "metadata": {},
   "outputs": [],
   "source": [
    " def dequeue(self):\n",
    "        if self.items:\n",
    "            item = self.items.popleft()\n",
    "            print(f\"Queue dequeue: {item}\")\n",
    "            return item\n",
    "        return None"
   ]
  },
  {
   "cell_type": "code",
   "execution_count": null,
   "id": "04307694-4148-404c-a34f-11824255c96d",
   "metadata": {},
   "outputs": [],
   "source": [
    "def is_empty(self):\n",
    "        return len(self.items) == 0\n"
   ]
  },
  {
   "cell_type": "code",
   "execution_count": null,
   "id": "a1d55223-e449-4247-972a-43c6100557f0",
   "metadata": {},
   "outputs": [],
   "source": [
    "class TreeNode:\n",
    "    def __init__(self, val):\n",
    "        self.val = val\n",
    "        self.left = None\n",
    "        self.right = None\n"
   ]
  },
  {
   "cell_type": "code",
   "execution_count": null,
   "id": "e94cb8f8-3202-4d34-bcd9-44b352079dfd",
   "metadata": {},
   "outputs": [],
   "source": [
    "def bfs_tree(root):\n",
    "    print(\"\\nBinary Tree BFS:\")"
   ]
  },
  {
   "cell_type": "code",
   "execution_count": null,
   "id": "2b1685c2-bd10-498e-9bc1-c9a4270c1ff1",
   "metadata": {},
   "outputs": [],
   "source": [
    "if not root:\n",
    "        return\n",
    "    queue = Queue()\n",
    "    queue.enqueue(root)"
   ]
  },
  {
   "cell_type": "code",
   "execution_count": null,
   "id": "b1563098-ec77-4080-8419-3d4ea976feb7",
   "metadata": {},
   "outputs": [],
   "source": [
    "while not queue.is_empty():\n",
    "        node = queue.dequeue()\n",
    "        print(node.val, end=' ')"
   ]
  },
  {
   "cell_type": "code",
   "execution_count": null,
   "id": "dcc36e3c-13a7-4a8c-854e-919f121b1653",
   "metadata": {},
   "outputs": [],
   "source": [
    "if node.left:\n",
    "            queue.enqueue(node.left)"
   ]
  },
  {
   "cell_type": "code",
   "execution_count": null,
   "id": "1d86dc8f-6d40-4da0-9468-00e972d7edba",
   "metadata": {},
   "outputs": [],
   "source": [
    "if node.right:\n",
    "            queue.enqueue(node.right)\n"
   ]
  },
  {
   "cell_type": "code",
   "execution_count": null,
   "id": "94009ba5-ce04-42fa-b0ba-442059efc348",
   "metadata": {},
   "outputs": [],
   "source": [
    "def dfs_inorder(root):\n",
    "    if root:\n",
    "        dfs_inorder(root.left)\n",
    "        print(root.val, end=' ')\n",
    "        dfs_inorder(root.right)\n"
   ]
  },
  {
   "cell_type": "code",
   "execution_count": null,
   "id": "948f529f-5758-44b9-b1b4-bd27eae1a688",
   "metadata": {},
   "outputs": [],
   "source": [
    "def merge_sort(arr):\n",
    "    if len(arr) <= 1:\n",
    "        return arr\n",
    "        print(f\"Sorting: {arr}\")"
   ]
  },
  {
   "cell_type": "code",
   "execution_count": null,
   "id": "6c350802-abc9-47d9-a595-c8071619ad27",
   "metadata": {},
   "outputs": [],
   "source": [
    " mid = len(arr) // 2\n",
    "    left = merge_sort(arr[:mid])"
   ]
  },
  {
   "cell_type": "code",
   "execution_count": null,
   "id": "033f1cb4-c942-460a-b712-9b38e9023072",
   "metadata": {},
   "outputs": [],
   "source": [
    " right = merge_sort(arr[mid:])\n",
    "    return merge(left, right)\n"
   ]
  },
  {
   "cell_type": "code",
   "execution_count": null,
   "id": "a38c3af1-d53c-426e-82db-0d7e2f9fb1eb",
   "metadata": {},
   "outputs": [],
   "source": [
    "def merge(left, right):\n",
    "    result = []\n",
    "    i = j = 0"
   ]
  },
  {
   "cell_type": "code",
   "execution_count": null,
   "id": "7e15b69e-5b3a-42b8-90e0-6e7ab226c535",
   "metadata": {},
   "outputs": [],
   "source": [
    " print(f\"Merging {left} & {right}\")\n",
    "    while i < len(left) and j < len(right):"
   ]
  },
  {
   "cell_type": "code",
   "execution_count": null,
   "id": "7415a3a6-681b-4a4e-a7f7-5bc58dcbbe24",
   "metadata": {},
   "outputs": [],
   "source": [
    " if left[i] < right[j]:\n",
    "            result.append(left[i])\n",
    "            i += 1"
   ]
  },
  {
   "cell_type": "code",
   "execution_count": null,
   "id": "f664330f-33fd-460a-a8c3-8295efef2d8b",
   "metadata": {},
   "outputs": [],
   "source": [
    "else:\n",
    "            result.append(right[j])\n",
    "            j += 1"
   ]
  },
  {
   "cell_type": "code",
   "execution_count": null,
   "id": "79be85cc-aa72-42c5-9b0c-0442e49aca8d",
   "metadata": {},
   "outputs": [],
   "source": [
    " result.extend(left[i:])\n",
    "    result.extend(right[j:])\n",
    "    return result"
   ]
  },
  {
   "cell_type": "code",
   "execution_count": null,
   "id": "4787d415-de77-4349-b3d1-43c9958b056a",
   "metadata": {},
   "outputs": [],
   "source": [
    "def binary_search(arr, target):\n",
    "    print(f\"\\nBinary Search for {target} in {arr}\")\n",
    "    low, high = 0, len(arr) - 1"
   ]
  },
  {
   "cell_type": "code",
   "execution_count": null,
   "id": "c65c0847-d943-4519-8764-f067b87e211f",
   "metadata": {},
   "outputs": [],
   "source": [
    " while low <= high:\n",
    "        mid = (low + high) // 2"
   ]
  },
  {
   "cell_type": "code",
   "execution_count": null,
   "id": "7173bfd1-8861-4d9d-9da8-7b5aa848abcd",
   "metadata": {},
   "outputs": [],
   "source": [
    " if arr[mid] == target:\n",
    "            print(f\"Found at index {mid}\")\n",
    "     return mid"
   ]
  },
  {
   "cell_type": "code",
   "execution_count": null,
   "id": "fc44305b-2358-4d5b-bc61-11123c4aea55",
   "metadata": {},
   "outputs": [],
   "source": [
    "  elif arr[mid] < target:\n",
    "            low = mid + 1"
   ]
  },
  {
   "cell_type": "code",
   "execution_count": null,
   "id": "85a34ab1-77f9-4e20-8aed-61fd05308c33",
   "metadata": {},
   "outputs": [],
   "source": [
    "else:\n",
    "            high = mid - 1"
   ]
  },
  {
   "cell_type": "code",
   "execution_count": null,
   "id": "7eba97a2-bfe8-4a54-97d8-87a3af5756ab",
   "metadata": {},
   "outputs": [],
   "source": [
    "    print(\"Not found\")\n",
    "    return -1\n"
   ]
  },
  {
   "cell_type": "code",
   "execution_count": null,
   "id": "7af32946-c1fb-4254-904f-de109c90af7f",
   "metadata": {},
   "outputs": [],
   "source": [
    "def min_heap_example(elements):\n",
    "    print(\"\\nMin Heap:\")"
   ]
  },
  {
   "cell_type": "code",
   "execution_count": null,
   "id": "36fb6618-3e7f-4919-8800-c356d61aa2e8",
   "metadata": {},
   "outputs": [],
   "source": [
    " heap = []\n",
    "    for el in elements:\n",
    "        heapq.heappush(heap, el)"
   ]
  },
  {
   "cell_type": "code",
   "execution_count": null,
   "id": "3b96b8a9-e731-4650-8b88-205efdaed869",
   "metadata": {},
   "outputs": [],
   "source": [
    " print(f\"Pushed {el}, Heap: {heap}\")\n",
    "    print(f\"Min Element: {heapq.heappop(heap)}\")\n"
   ]
  },
  {
   "cell_type": "code",
   "execution_count": null,
   "id": "e81add28-54db-4a13-b887-12b9a4999f17",
   "metadata": {},
   "outputs": [],
   "source": [
    "class Graph:\n",
    "    def __init__(self):\n",
    "        self.graph = defaultdict(list)\n"
   ]
  },
  {
   "cell_type": "code",
   "execution_count": null,
   "id": "6e0a629a-04e6-499a-95d8-4ed90da625f4",
   "metadata": {},
   "outputs": [],
   "source": [
    "def add_edge(self, u, v):\n",
    "        self.graph[u].append(v)\n",
    "        print(f\"Added edge: {u} -> {v}\")"
   ]
  },
  {
   "cell_type": "code",
   "execution_count": null,
   "id": "c7c618fc-24fa-40be-81c3-6360fa5c5ac6",
   "metadata": {},
   "outputs": [],
   "source": [
    "def dfs(self, start):\n",
    "        print(\"\\nGraph DFS:\")\n",
    "        visited = set()\n",
    "        stack = Stack()\n",
    "        stack.push(start)"
   ]
  },
  {
   "cell_type": "code",
   "execution_count": null,
   "id": "eb24f89e-41b4-438b-bbda-2f8f08ff0c5b",
   "metadata": {},
   "outputs": [],
   "source": [
    " while not stack.is_empty():\n",
    "            node = stack.pop()\n",
    "            if node not in visited:"
   ]
  },
  {
   "cell_type": "code",
   "execution_count": null,
   "id": "faf1e4e4-311c-456e-95a8-659ee41c593e",
   "metadata": {},
   "outputs": [],
   "source": [
    "print(node, end=' ')\n",
    "                visited.add(node)\n",
    "                for neighbor in reversed(self.graph[node]):\n",
    "                    stack.push(neighbor)"
   ]
  },
  {
   "cell_type": "code",
   "execution_count": null,
   "id": "be4e3380-d935-4e3a-9a8a-af71365fcc16",
   "metadata": {},
   "outputs": [],
   "source": [
    "def bfs(self, start):\n",
    "        print(\"\\nGraph BFS:\")\n",
    "        visited = set()\n",
    "        queue = Queue()"
   ]
  },
  {
   "cell_type": "code",
   "execution_count": null,
   "id": "07e01b7b-a56b-4aa1-bfd0-f58ab6e86076",
   "metadata": {},
   "outputs": [],
   "source": [
    " queue.enqueue(start)\n",
    "        visited.add(start)"
   ]
  },
  {
   "cell_type": "code",
   "execution_count": null,
   "id": "12aaa236-2b9a-4fcf-8e12-12ce0588cfc4",
   "metadata": {},
   "outputs": [],
   "source": [
    "   while not queue.is_empty():\n",
    "            node = queue.dequeue()"
   ]
  },
  {
   "cell_type": "code",
   "execution_count": null,
   "id": "2533b81e-c8c4-4e33-9b08-b61a475c6432",
   "metadata": {},
   "outputs": [],
   "source": [
    "  print(node, end=' ')"
   ]
  },
  {
   "cell_type": "code",
   "execution_count": null,
   "id": "f6a9145f-799c-405c-9377-1bbb421511d6",
   "metadata": {},
   "outputs": [],
   "source": [
    "for neighbor in self.graph[node]:\n",
    "                if neighbor not in visited:\n",
    "                    visited.add(neighbor)\n",
    "                    queue.enqueue(neighbor)\n"
   ]
  },
  {
   "cell_type": "code",
   "execution_count": null,
   "id": "40ce9516-f076-4492-b816-61f0c6b0c93e",
   "metadata": {},
   "outputs": [],
   "source": [
    "if __name__ == \"__main__\":"
   ]
  },
  {
   "cell_type": "code",
   "execution_count": null,
   "id": "9ec6cc53-a8d6-42a8-8903-4574400b84d7",
   "metadata": {},
   "outputs": [],
   "source": [
    "print(\"\\n--- Binary Tree ---\")\n",
    "    root = TreeNode(10)\n",
    "    root.left = TreeNode(5)"
   ]
  },
  {
   "cell_type": "code",
   "execution_count": null,
   "id": "a663b5d1-da97-4637-b1c6-5a2b5bb5f250",
   "metadata": {},
   "outputs": [],
   "source": [
    " root.right = TreeNode(15)\n",
    "    root.left.left = TreeNode(2)\n",
    "    root.left.right = TreeNode(7)\n",
    "    bfs_tree(root)"
   ]
  },
  {
   "cell_type": "code",
   "execution_count": null,
   "id": "a652b14b-2936-4308-9782-0d11929a3c43",
   "metadata": {},
   "outputs": [],
   "source": [
    "   print(\"\\nIn-order DFS:\")\n",
    "    dfs_inorder(root)\n"
   ]
  },
  {
   "cell_type": "code",
   "execution_count": null,
   "id": "11d06be0-3a76-4c50-8ccc-e297672a4db6",
   "metadata": {},
   "outputs": [],
   "source": [
    "  print(\"\\n\\n--- Merge Sort & Binary Search ---\")\n",
    "    arr = [9, 1, 6, 3, 5, 2, 8]"
   ]
  },
  {
   "cell_type": "code",
   "execution_count": null,
   "id": "aed63f08-dd4c-4064-8403-e21362ef6822",
   "metadata": {},
   "outputs": [],
   "source": [
    "sorted_arr = merge_sort(arr)\n",
    "    print(\"Sorted array:\", sorted_arr)\n",
    "    binary_search(sorted_arr, 5)"
   ]
  },
  {
   "cell_type": "code",
   "execution_count": null,
   "id": "57583bed-1ff6-4bd7-97d0-c83fe8c0b630",
   "metadata": {},
   "outputs": [],
   "source": [
    " min_heap_example([4, 1, 7, 3, 2, 6])"
   ]
  },
  {
   "cell_type": "code",
   "execution_count": null,
   "id": "81027781-e657-4ecd-9e10-14d4d35dc633",
   "metadata": {},
   "outputs": [],
   "source": [
    " print(\"\\n\\n--- Graph ---\")\n",
    "    g = Graph()\n",
    "    g.add_edge('A', 'B')\n",
    "    g.add_edge('A', 'C')\n",
    "    g.add_edge('B', 'D')"
   ]
  },
  {
   "cell_type": "code",
   "execution_count": null,
   "id": "30795534-d770-4876-8b11-2e24e44cafd1",
   "metadata": {},
   "outputs": [],
   "source": [
    " g.add_edge('C', 'D')\n",
    "    g.add_edge('D', 'E')\n",
    "    g.dfs('A')\n",
    "    g.bfs('A')"
   ]
  },
  {
   "cell_type": "code",
   "execution_count": null,
   "id": "eef9f333-f9e4-4ec8-8c12-24bdb4488fd3",
   "metadata": {},
   "outputs": [],
   "source": []
  }
 ],
 "metadata": {
  "kernelspec": {
   "display_name": "Python 3 (ipykernel)",
   "language": "python",
   "name": "python3"
  },
  "language_info": {
   "codemirror_mode": {
    "name": "ipython",
    "version": 3
   },
   "file_extension": ".py",
   "mimetype": "text/x-python",
   "name": "python",
   "nbconvert_exporter": "python",
   "pygments_lexer": "ipython3",
   "version": "3.12.3"
  }
 },
 "nbformat": 4,
 "nbformat_minor": 5
}
