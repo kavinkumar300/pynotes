{
 "cells": [
  {
   "cell_type": "code",
   "execution_count": null,
   "id": "47dfe75b-0be7-43d4-9647-83b629fc6bff",
   "metadata": {},
   "outputs": [],
   "source": [
    "# 20250721"
   ]
  },
  {
   "cell_type": "code",
   "execution_count": null,
   "id": "dfa76a93-3314-4d2e-a8ba-94bb8739e02b",
   "metadata": {},
   "outputs": [],
   "source": [
    "https://chatgpt.com/c/687d381f-a7cc-8012-aa0e-4d36b9b1488c"
   ]
  },
  {
   "cell_type": "code",
   "execution_count": null,
   "id": "7918cbfe-9ca1-47da-8366-ba21fc9f632e",
   "metadata": {},
   "outputs": [],
   "source": [
    "def recursive_fib(k):\n",
    "        if k <= 1:\n",
    "            return k\n",
    "        return recursive_fib(k - 1) + recursive_fib(k - 2)"
   ]
  },
  {
   "cell_type": "code",
   "execution_count": null,
   "id": "594dbda6-2e4e-440a-9104-60e673413c42",
   "metadata": {},
   "outputs": [],
   "source": [
    "def fibonacci(n, return_list=False, use_recursion=False):\n",
    "    if n <= 0:\n",
    "        print(\"Please enter a positive integer.\")\n",
    "        return [] if return_list else None"
   ]
  },
  {
   "cell_type": "code",
   "execution_count": null,
   "id": "58767f4d-e76f-4c74-b16d-1251e6d5be43",
   "metadata": {},
   "outputs": [],
   "source": [
    "result = []\n",
    "    if use_recursion:\n",
    "        for i in range(n):\n",
    "            result.append(recursive_fib(i))"
   ]
  },
  {
   "cell_type": "code",
   "execution_count": null,
   "id": "7ce3e425-4d70-489f-9766-8ff5d0183f44",
   "metadata": {},
   "outputs": [],
   "source": [
    "else:\n",
    "        a, b = 0, 1\n",
    "        for _ in range(n):\n",
    "            result.append(a)\n",
    "            a, b = b, a + b"
   ]
  },
  {
   "cell_type": "code",
   "execution_count": null,
   "id": "b1d3a138-4c15-4be4-876c-d68fae497a71",
   "metadata": {},
   "outputs": [],
   "source": [
    "if return_list:\n",
    "        return result"
   ]
  },
  {
   "cell_type": "code",
   "execution_count": null,
   "id": "9e7e2375-bf19-4f0b-9aad-b1d089295acf",
   "metadata": {},
   "outputs": [],
   "source": [
    "else:"
   ]
  },
  {
   "cell_type": "code",
   "execution_count": null,
   "id": "63dea95c-07b7-4f2e-9420-504dbed30970",
   "metadata": {},
   "outputs": [],
   "source": [
    " print(\"Fibonacci Sequence:\")"
   ]
  },
  {
   "cell_type": "code",
   "execution_count": null,
   "id": "b2edbbf3-d915-4955-add8-0d7e7f867eee",
   "metadata": {},
   "outputs": [],
   "source": [
    "print(\" \".join(map(str, result)))"
   ]
  },
  {
   "cell_type": "code",
   "execution_count": null,
   "id": "735f31d6-45f1-495d-a80d-0c2823c4bd71",
   "metadata": {},
   "outputs": [],
   "source": []
  },
  {
   "cell_type": "code",
   "execution_count": null,
   "id": "775ade66-0e9d-4f1f-bd8b-d0f975714574",
   "metadata": {},
   "outputs": [],
   "source": []
  }
 ],
 "metadata": {
  "kernelspec": {
   "display_name": "Python 3 (ipykernel)",
   "language": "python",
   "name": "python3"
  },
  "language_info": {
   "codemirror_mode": {
    "name": "ipython",
    "version": 3
   },
   "file_extension": ".py",
   "mimetype": "text/x-python",
   "name": "python",
   "nbconvert_exporter": "python",
   "pygments_lexer": "ipython3",
   "version": "3.12.3"
  }
 },
 "nbformat": 4,
 "nbformat_minor": 5
}
