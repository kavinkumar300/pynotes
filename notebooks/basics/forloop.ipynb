{
 "cells": [
  {
   "cell_type": "code",
   "execution_count": null,
   "id": "6f7bb952-38c5-4ef8-9d62-26fe04dc2d8e",
   "metadata": {},
   "outputs": [],
   "source": [
    "# created : 20250629"
   ]
  },
  {
   "cell_type": "code",
   "execution_count": null,
   "id": "1d9ec81c-cca9-4017-914f-b31949b2fb88",
   "metadata": {},
   "outputs": [],
   "source": []
  },
  {
   "cell_type": "code",
   "execution_count": 4,
   "id": "9954714f-f141-4d46-abcc-5c2aefa712bd",
   "metadata": {},
   "outputs": [
    {
     "name": "stdout",
     "output_type": "stream",
     "text": [
      "1 plus 2 equals 3\n",
      "3 plus 4 equals 7\n",
      "4 plus 5 equals 9\n"
     ]
    }
   ],
   "source": [
    "x = [(1,2),(3,4),(4,5)]\n",
    "for a,b in x:\n",
    "    print(a, \"plus\", b, \"equals\" , a+b)\n"
   ]
  },
  {
   "cell_type": "code",
   "execution_count": 16,
   "id": "c3ae625e-0d99-4f8f-904a-b90011dcbdd3",
   "metadata": {
    "scrolled": true
   },
   "outputs": [
    {
     "name": "stdin",
     "output_type": "stream",
     "text": [
      "enter a number:  5\n"
     ]
    },
    {
     "name": "stdout",
     "output_type": "stream",
     "text": [
      "factorial: 120\n"
     ]
    }
   ],
   "source": [
    "num = int(input(\"enter a number: \"))\n",
    "factorial = 1\n",
    "for i in range(num, 1, -1):\n",
    "    factorial = factorial * i\n",
    "print(\"factorial:\", factorial)\n"
   ]
  },
  {
   "cell_type": "code",
   "execution_count": 23,
   "id": "4faa6574-c44c-4c8b-bd57-a1ef5ebcbcae",
   "metadata": {},
   "outputs": [
    {
     "name": "stdin",
     "output_type": "stream",
     "text": [
      "enter a number 5\n"
     ]
    },
    {
     "name": "stdout",
     "output_type": "stream",
     "text": [
      "5 x 1 = 5\n",
      "5 x 2 = 10\n",
      "5 x 3 = 15\n",
      "5 x 4 = 20\n",
      "5 x 5 = 25\n",
      "5 x 6 = 30\n",
      "5 x 7 = 35\n",
      "5 x 8 = 40\n",
      "5 x 9 = 45\n",
      "5 x 10 = 50\n"
     ]
    }
   ],
   "source": [
    "number = int(input(\"enter a number\"))\n",
    "for i in range(1,11):\n",
    "    answer = number * i\n",
    "    print(f\"{number} x {i} = {answer}\")"
   ]
  },
  {
   "cell_type": "code",
   "execution_count": 26,
   "id": "bc62d7d0-2ddd-401b-b62a-645b2f6e7d42",
   "metadata": {},
   "outputs": [
    {
     "name": "stdout",
     "output_type": "stream",
     "text": [
      "sum: 10\n",
      "sum: 30\n",
      "sum: 60\n",
      "sum: 100\n"
     ]
    }
   ],
   "source": [
    "numbers = [10,20,30,40]\n",
    "total = 0\n",
    "for i in numbers:\n",
    "    total = total + i\n",
    "    print(\"sum:\", total)"
   ]
  },
  {
   "cell_type": "code",
   "execution_count": 31,
   "id": "dd5e9656-31d0-4cee-9916-46f2a043b054",
   "metadata": {},
   "outputs": [
    {
     "name": "stdout",
     "output_type": "stream",
     "text": [
      "Number of vowels: 2\n"
     ]
    }
   ],
   "source": [
    "text = \"kavin\"\n",
    "vowels = \"aeiouAEIOU\"\n",
    "count = 0\n",
    "\n",
    "for char in text:\n",
    "    if char in vowels:\n",
    "        count += 1\n",
    "\n",
    "print(f\"Number of vowels: {count}\")\n"
   ]
  },
  {
   "cell_type": "code",
   "execution_count": null,
   "id": "2a7d405b-bc84-4a94-a8d7-3e59d62d4231",
   "metadata": {},
   "outputs": [],
   "source": [
    "#20250721"
   ]
  },
  {
   "cell_type": "code",
   "execution_count": null,
   "id": "8645bf54-14dc-47db-b6d5-8ffe2aef6af5",
   "metadata": {},
   "outputs": [],
   "source": []
  }
 ],
 "metadata": {
  "kernelspec": {
   "display_name": "Python 3 (ipykernel)",
   "language": "python",
   "name": "python3"
  },
  "language_info": {
   "codemirror_mode": {
    "name": "ipython",
    "version": 3
   },
   "file_extension": ".py",
   "mimetype": "text/x-python",
   "name": "python",
   "nbconvert_exporter": "python",
   "pygments_lexer": "ipython3",
   "version": "3.12.3"
  }
 },
 "nbformat": 4,
 "nbformat_minor": 5
}
