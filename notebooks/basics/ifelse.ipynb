{
 "cells": [
  {
   "cell_type": "code",
   "execution_count": 1,
   "id": "2afa6612-9fe0-4744-abaa-6d720a4895da",
   "metadata": {},
   "outputs": [
    {
     "name": "stdin",
     "output_type": "stream",
     "text": [
      "enter a number 4\n"
     ]
    },
    {
     "name": "stdout",
     "output_type": "stream",
     "text": [
      "positive\n"
     ]
    }
   ],
   "source": [
    "num = int(input(\"enter a number\"))\n",
    "if num > 0:\n",
    "    print(\"positive\")\n",
    "elif num < 0:\n",
    "    print(\"negative\")\n",
    "else:\n",
    "    print(\"zero\")"
   ]
  },
  {
   "cell_type": "code",
   "execution_count": 4,
   "id": "554b23c5-bbae-43cb-88d2-af3754aa016c",
   "metadata": {},
   "outputs": [
    {
     "name": "stdin",
     "output_type": "stream",
     "text": [
      "enter number1: 3\n",
      "enter number2: 4\n"
     ]
    },
    {
     "name": "stdout",
     "output_type": "stream",
     "text": [
      "b is greater\n"
     ]
    }
   ],
   "source": [
    "a = int(input(\"enter number1:\"))\n",
    "b = int(input(\"enter number2:\"))\n",
    "if a>b:\n",
    "        print(\"a is greater\")\n",
    "elif b>a:\n",
    "        print(\"b is greater\")\n",
    "else:\n",
    "        print(\"both are equal\")"
   ]
  },
  {
   "cell_type": "code",
   "execution_count": 6,
   "id": "f39eaf44-398d-4229-b748-60d179b20d9b",
   "metadata": {},
   "outputs": [
    {
     "name": "stdin",
     "output_type": "stream",
     "text": [
      "enter a numbre 4\n"
     ]
    },
    {
     "name": "stdout",
     "output_type": "stream",
     "text": [
      "number is not divisible by 3 and 5\n"
     ]
    }
   ],
   "source": [
    "num = int(input(\"enter a numbre\"))\n",
    "if num%3 == 0 and num%5 == 0:\n",
    "    print(\"number is divisible by 3 and 5\")\n",
    "else:\n",
    "    print(\"number is not divisible by 3 and 5\")"
   ]
  },
  {
   "cell_type": "code",
   "execution_count": 9,
   "id": "f9ee3528-f442-4282-bf4c-4d1f14f7d370",
   "metadata": {},
   "outputs": [
    {
     "name": "stdin",
     "output_type": "stream",
     "text": [
      "enter your email: kvnkumar2006@gmail.com\n"
     ]
    },
    {
     "name": "stdout",
     "output_type": "stream",
     "text": [
      "Valid email format\n"
     ]
    }
   ],
   "source": [
    "email = input(\"enter your email:\")\n",
    "\n",
    "if \"@\" in email and \".\" in email and email.index('@') < email.rindex('.'):\n",
    "    print(\"Valid email format\")\n",
    "else:\n",
    "    print(\"Invalid email format\")\n"
   ]
  },
  {
   "cell_type": "code",
   "execution_count": null,
   "id": "ac5e5508-dad4-4494-91ad-8f92294ef076",
   "metadata": {},
   "outputs": [],
   "source": []
  }
 ],
 "metadata": {
  "kernelspec": {
   "display_name": "Python 3 (ipykernel)",
   "language": "python",
   "name": "python3"
  },
  "language_info": {
   "codemirror_mode": {
    "name": "ipython",
    "version": 3
   },
   "file_extension": ".py",
   "mimetype": "text/x-python",
   "name": "python",
   "nbconvert_exporter": "python",
   "pygments_lexer": "ipython3",
   "version": "3.12.7"
  }
 },
 "nbformat": 4,
 "nbformat_minor": 5
}
