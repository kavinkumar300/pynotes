{
 "cells": [
  {
   "cell_type": "code",
   "execution_count": 1,
   "id": "9715e897-6e6d-4d80-94a5-51b02b7150dd",
   "metadata": {},
   "outputs": [
    {
     "name": "stdout",
     "output_type": "stream",
     "text": [
      "write your own code\n"
     ]
    }
   ],
   "source": [
    "print(\"write your own code\")"
   ]
  },
  {
   "cell_type": "code",
   "execution_count": null,
   "id": "56b2e7fb-e953-456a-9e79-cd175553a4ad",
   "metadata": {},
   "outputs": [],
   "source": []
  }
 ],
 "metadata": {
  "kernelspec": {
   "display_name": "Python 3 (ipykernel)",
   "language": "python",
   "name": "python3"
  },
  "language_info": {
   "codemirror_mode": {
    "name": "ipython",
    "version": 3
   },
   "file_extension": ".py",
   "mimetype": "text/x-python",
   "name": "python",
   "nbconvert_exporter": "python",
   "pygments_lexer": "ipython3",
   "version": "3.12.11"
  }
 },
 "nbformat": 4,
 "nbformat_minor": 5
}
