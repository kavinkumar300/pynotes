{
 "cells": [
  {
   "cell_type": "code",
   "execution_count": 1,
   "id": "f5637f18-33c3-468b-8bb3-621ef8215027",
   "metadata": {},
   "outputs": [
    {
     "name": "stdout",
     "output_type": "stream",
     "text": [
      "write your own code\n"
     ]
    }
   ],
   "source": [
    "print(\"write your own code\")"
   ]
  },
  {
   "cell_type": "code",
   "execution_count": null,
   "id": "99589e9c-da03-420e-b00b-22a2c68b17b3",
   "metadata": {},
   "outputs": [],
   "source": []
  }
 ],
 "metadata": {
  "kernelspec": {
   "display_name": "Python 3 (ipykernel)",
   "language": "python",
   "name": "python3"
  },
  "language_info": {
   "codemirror_mode": {
    "name": "ipython",
    "version": 3
   },
   "file_extension": ".py",
   "mimetype": "text/x-python",
   "name": "python",
   "nbconvert_exporter": "python",
   "pygments_lexer": "ipython3",
   "version": "3.11.13"
  }
 },
 "nbformat": 4,
 "nbformat_minor": 5
}
